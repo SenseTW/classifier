{
 "cells": [
  {
   "cell_type": "markdown",
   "metadata": {},
   "source": [
    "# Join 平台眾開講"
   ]
  },
  {
   "cell_type": "markdown",
   "metadata": {},
   "source": [
    "## Setup\n",
    "\n",
    "- [x] Read messages from CSV.\n",
    "- [x] Cut message content by Jieba.\n",
    "- [ ] Build embeddings using fastText word vectors pre-trained on Wikipedia corpus.\n",
    "- [ ] Build training and validation datasets."
   ]
  },
  {
   "cell_type": "code",
   "execution_count": 214,
   "metadata": {},
   "outputs": [],
   "source": [
    "path = \"data/join\"\n",
    "topic = \"立法方式保障\"\n",
    "# topic = \"同性伴侣法\"\n",
    "# topic = \"同性婚姻法\""
   ]
  },
  {
   "cell_type": "code",
   "execution_count": 349,
   "metadata": {},
   "outputs": [],
   "source": [
    "from __future__ import division, print_function\n",
    "import pandas as pd, numpy as np\n",
    "import jieba\n",
    "from keras.models import Sequential\n",
    "from keras.layers import Embedding, Dense, Flatten\n",
    "import os, math"
   ]
  },
  {
   "cell_type": "markdown",
   "metadata": {},
   "source": [
    "Read in messages from CSV."
   ]
  },
  {
   "cell_type": "code",
   "execution_count": 538,
   "metadata": {},
   "outputs": [
    {
     "name": "stdout",
     "output_type": "stream",
     "text": [
      "Total messages: 10215\n",
      "Labeled messages: 58\n"
     ]
    },
    {
     "data": {
      "text/html": [
       "<div>\n",
       "<style scoped>\n",
       "    .dataframe tbody tr th:only-of-type {\n",
       "        vertical-align: middle;\n",
       "    }\n",
       "\n",
       "    .dataframe tbody tr th {\n",
       "        vertical-align: top;\n",
       "    }\n",
       "\n",
       "    .dataframe thead th {\n",
       "        text-align: right;\n",
       "    }\n",
       "</style>\n",
       "<table border=\"1\" class=\"dataframe\">\n",
       "  <thead>\n",
       "    <tr style=\"text-align: right;\">\n",
       "      <th></th>\n",
       "      <th>createDate</th>\n",
       "      <th>authorName</th>\n",
       "      <th>content</th>\n",
       "      <th>ORID</th>\n",
       "    </tr>\n",
       "    <tr>\n",
       "      <th>id</th>\n",
       "      <th></th>\n",
       "      <th></th>\n",
       "      <th></th>\n",
       "      <th></th>\n",
       "    </tr>\n",
       "  </thead>\n",
       "  <tbody>\n",
       "    <tr>\n",
       "      <th>6</th>\n",
       "      <td>2015-10-31 15:53:48</td>\n",
       "      <td>黃道明</td>\n",
       "      <td>在台灣已經有同志收養小孩了，你的資訊是多落伍～</td>\n",
       "      <td>O</td>\n",
       "    </tr>\n",
       "    <tr>\n",
       "      <th>9</th>\n",
       "      <td>2015-10-31 15:52:09</td>\n",
       "      <td>黃道明</td>\n",
       "      <td>真奇怪，明明是歐美一個個陸續通過同婚，你是眼睛瞎了嗎？</td>\n",
       "      <td>O</td>\n",
       "    </tr>\n",
       "    <tr>\n",
       "      <th>10</th>\n",
       "      <td>2015-10-31 15:51:24</td>\n",
       "      <td>高守謙</td>\n",
       "      <td>我來回答吧四處約砲 無固定性伴侶 就算是性解放的一種</td>\n",
       "      <td>I</td>\n",
       "    </tr>\n",
       "    <tr>\n",
       "      <th>14</th>\n",
       "      <td>2015-10-31 15:38:13</td>\n",
       "      <td>了了</td>\n",
       "      <td>援交 毒品 賭博 全部比同性戀禍害更深 那麼怕的話別生了地球很危險的</td>\n",
       "      <td>I</td>\n",
       "    </tr>\n",
       "    <tr>\n",
       "      <th>16</th>\n",
       "      <td>2015-10-31 15:34:41</td>\n",
       "      <td>路過的，呵呵。</td>\n",
       "      <td>同性戀領養現在是合法的喔，因為我們未婚都是單身者，現在單身者是可以領養小朋友的。</td>\n",
       "      <td>O</td>\n",
       "    </tr>\n",
       "  </tbody>\n",
       "</table>\n",
       "</div>"
      ],
      "text/plain": [
       "             createDate authorName                                   content  \\\n",
       "id                                                                             \n",
       "6   2015-10-31 15:53:48        黃道明                   在台灣已經有同志收養小孩了，你的資訊是多落伍～   \n",
       "9   2015-10-31 15:52:09        黃道明               真奇怪，明明是歐美一個個陸續通過同婚，你是眼睛瞎了嗎？   \n",
       "10  2015-10-31 15:51:24        高守謙                我來回答吧四處約砲 無固定性伴侶 就算是性解放的一種   \n",
       "14  2015-10-31 15:38:13         了了        援交 毒品 賭博 全部比同性戀禍害更深 那麼怕的話別生了地球很危險的   \n",
       "16  2015-10-31 15:34:41    路過的，呵呵。  同性戀領養現在是合法的喔，因為我們未婚都是單身者，現在單身者是可以領養小朋友的。   \n",
       "\n",
       "   ORID  \n",
       "id       \n",
       "6     O  \n",
       "9     O  \n",
       "10    I  \n",
       "14    I  \n",
       "16    O  "
      ]
     },
     "execution_count": 538,
     "metadata": {},
     "output_type": "execute_result"
    }
   ],
   "source": [
    "def get_messages_from_orig(topic):\n",
    "    messages = pd.read_csv(os.path.join(path, topic + \".csv\"), index_col=0)\n",
    "    mask = messages.astype('str').applymap(lambda x: len(x.decode('utf-8'))).content > 20\n",
    "    messages = messages[mask]\n",
    "    messages.to_csv(os.path.join(path, topic + \"-good.csv\"))\n",
    "    return messages\n",
    "\n",
    "def get_labeled_messages(topic):\n",
    "    return pd.read_csv(os.path.join(path, topic + \"-good.csv\"), index_col=0)\n",
    "\n",
    "def labeled_only(messages):\n",
    "    return messages[messages.ORID.notnull()]\n",
    "\n",
    "all_messages = get_messages_from_orig(topic) if not os.path.exists(os.path.join(path, topic + \"-good.csv\")) \\\n",
    "                                         else get_labeled_messages(topic)\n",
    "print(\"Total messages: {count}\".format(count=len(all_messages)))\n",
    "messages = labeled_only(all_messages)\n",
    "print(\"Labeled messages: {count}\".format(count=len(messages)))\n",
    "messages.head()"
   ]
  },
  {
   "cell_type": "markdown",
   "metadata": {},
   "source": [
    "Build dictionary of phrases and load word embeddings."
   ]
  },
  {
   "cell_type": "code",
   "execution_count": 539,
   "metadata": {},
   "outputs": [
    {
     "data": {
      "text/plain": [
       "(44956, 300)"
      ]
     },
     "execution_count": 539,
     "metadata": {},
     "output_type": "execute_result"
    }
   ],
   "source": [
    "def write_dictionary(messages):\n",
    "    contents = [ jieba.lcut(c) for c in messages.content ]\n",
    "    all_phrases = set([ ph for c in contents for ph in c ])\n",
    "    with open(os.path.join(path, \"dictionary.txt\"), \"w\") as fh:\n",
    "        for ph in all_phrases:\n",
    "            fh.write(ph.encode(\"utf-8\") + \"\\n\")\n",
    "            \n",
    "def read_dictionary():\n",
    "    dictionary = pd.read_csv(os.path.join(path, \"dictionary.vec\"), \n",
    "                       delim_whitespace=True, engine=\"python\", header=None, index_col=0)\n",
    "    return dictionary\n",
    "\n",
    "if not os.path.exists(\"dictionary.vec\"):\n",
    "    write_dictionary(all_messages)\n",
    "    !cd data/join; ../../../bin/fasttext print-word-vectors models/wiki.zh.bin < dictionary.txt > dictionary.vec\n",
    "dictionary = read_dictionary()\n",
    "dictionary.shape"
   ]
  },
  {
   "cell_type": "code",
   "execution_count": 540,
   "metadata": {},
   "outputs": [],
   "source": [
    "dict_index = { ph.decode(\"utf-8\"): i for i, ph in enumerate(dictionary.index) }"
   ]
  },
  {
   "cell_type": "code",
   "execution_count": 541,
   "metadata": {},
   "outputs": [
    {
     "data": {
      "text/plain": [
       "(35096, 1     -0.602590\n",
       " 2     -0.106030\n",
       " 3      0.585770\n",
       " 4     -0.032679\n",
       " 5      0.335980\n",
       " 6     -0.544030\n",
       " 7     -0.095186\n",
       " 8     -0.346140\n",
       " 9     -0.173840\n",
       " 10     0.378300\n",
       " 11    -0.276490\n",
       " 12     0.023498\n",
       " 13    -0.262720\n",
       " 14    -0.178130\n",
       " 15     0.561330\n",
       " 16    -0.051622\n",
       " 17    -0.254940\n",
       " 18     0.053725\n",
       " 19     0.079208\n",
       " 20     0.169360\n",
       " 21     0.408680\n",
       " 22     0.176830\n",
       " 23     0.061802\n",
       " 24    -0.233210\n",
       " 25    -0.180860\n",
       " 26     0.354090\n",
       " 27    -0.435450\n",
       " 28     0.332370\n",
       " 29     0.060527\n",
       " 30     0.247440\n",
       "          ...   \n",
       " 271   -0.779680\n",
       " 272    0.266220\n",
       " 273    0.804560\n",
       " 274   -0.406260\n",
       " 275    0.451250\n",
       " 276    0.038507\n",
       " 277    0.900590\n",
       " 278    0.222490\n",
       " 279   -0.131450\n",
       " 280    0.289220\n",
       " 281   -0.461580\n",
       " 282    0.028088\n",
       " 283   -0.051983\n",
       " 284    0.761830\n",
       " 285    0.721690\n",
       " 286   -0.048678\n",
       " 287   -1.467300\n",
       " 288   -0.408780\n",
       " 289   -0.224890\n",
       " 290    0.023509\n",
       " 291   -0.040479\n",
       " 292    0.233910\n",
       " 293    0.410750\n",
       " 294    0.446700\n",
       " 295   -0.314240\n",
       " 296    0.448340\n",
       " 297    0.660420\n",
       " 298    0.490090\n",
       " 299    0.911710\n",
       " 300    0.090656\n",
       " Name: 同性, Length: 300, dtype: float64)"
      ]
     },
     "execution_count": 541,
     "metadata": {},
     "output_type": "execute_result"
    }
   ],
   "source": [
    "dict_index[u\"同性\"], dictionary.loc[\"同性\"]"
   ]
  },
  {
   "cell_type": "code",
   "execution_count": 560,
   "metadata": {},
   "outputs": [],
   "source": [
    "input_length = 50\n",
    "batch_size = 64"
   ]
  },
  {
   "cell_type": "code",
   "execution_count": 561,
   "metadata": {},
   "outputs": [],
   "source": [
    "def create_embeddings(dictionary, input_length=100):\n",
    "    phrases, latents = dictionary.shape\n",
    "    embedding = Embedding(phrases, latents, input_length=input_length, weights=[dictionary])\n",
    "    return embedding"
   ]
  },
  {
   "cell_type": "markdown",
   "metadata": {},
   "source": [
    "Separate the messages into training and validation datasets."
   ]
  },
  {
   "cell_type": "code",
   "execution_count": 577,
   "metadata": {},
   "outputs": [],
   "source": [
    "select = np.random.random(len(messages)) < 0.9\n",
    "train = messages[select]\n",
    "valid = messages[~select]"
   ]
  },
  {
   "cell_type": "code",
   "execution_count": 578,
   "metadata": {},
   "outputs": [
    {
     "name": "stdout",
     "output_type": "stream",
     "text": [
      "Training data: 52\n"
     ]
    },
    {
     "data": {
      "text/html": [
       "<div>\n",
       "<style scoped>\n",
       "    .dataframe tbody tr th:only-of-type {\n",
       "        vertical-align: middle;\n",
       "    }\n",
       "\n",
       "    .dataframe tbody tr th {\n",
       "        vertical-align: top;\n",
       "    }\n",
       "\n",
       "    .dataframe thead th {\n",
       "        text-align: right;\n",
       "    }\n",
       "</style>\n",
       "<table border=\"1\" class=\"dataframe\">\n",
       "  <thead>\n",
       "    <tr style=\"text-align: right;\">\n",
       "      <th></th>\n",
       "      <th>createDate</th>\n",
       "      <th>authorName</th>\n",
       "      <th>content</th>\n",
       "      <th>ORID</th>\n",
       "    </tr>\n",
       "    <tr>\n",
       "      <th>id</th>\n",
       "      <th></th>\n",
       "      <th></th>\n",
       "      <th></th>\n",
       "      <th></th>\n",
       "    </tr>\n",
       "  </thead>\n",
       "  <tbody>\n",
       "    <tr>\n",
       "      <th>9</th>\n",
       "      <td>2015-10-31 15:52:09</td>\n",
       "      <td>黃道明</td>\n",
       "      <td>真奇怪，明明是歐美一個個陸續通過同婚，你是眼睛瞎了嗎？</td>\n",
       "      <td>O</td>\n",
       "    </tr>\n",
       "    <tr>\n",
       "      <th>10</th>\n",
       "      <td>2015-10-31 15:51:24</td>\n",
       "      <td>高守謙</td>\n",
       "      <td>我來回答吧四處約砲 無固定性伴侶 就算是性解放的一種</td>\n",
       "      <td>I</td>\n",
       "    </tr>\n",
       "    <tr>\n",
       "      <th>14</th>\n",
       "      <td>2015-10-31 15:38:13</td>\n",
       "      <td>了了</td>\n",
       "      <td>援交 毒品 賭博 全部比同性戀禍害更深 那麼怕的話別生了地球很危險的</td>\n",
       "      <td>I</td>\n",
       "    </tr>\n",
       "    <tr>\n",
       "      <th>16</th>\n",
       "      <td>2015-10-31 15:34:41</td>\n",
       "      <td>路過的，呵呵。</td>\n",
       "      <td>同性戀領養現在是合法的喔，因為我們未婚都是單身者，現在單身者是可以領養小朋友的。</td>\n",
       "      <td>O</td>\n",
       "    </tr>\n",
       "    <tr>\n",
       "      <th>20</th>\n",
       "      <td>2015-10-31 15:32:02</td>\n",
       "      <td>大少爺</td>\n",
       "      <td>如果一直沒通過，哪來足夠的長時間和數據證明給你看？希望能結婚就等於自私嗎？異性戀自己能結婚，...</td>\n",
       "      <td>R</td>\n",
       "    </tr>\n",
       "  </tbody>\n",
       "</table>\n",
       "</div>"
      ],
      "text/plain": [
       "             createDate authorName  \\\n",
       "id                                   \n",
       "9   2015-10-31 15:52:09        黃道明   \n",
       "10  2015-10-31 15:51:24        高守謙   \n",
       "14  2015-10-31 15:38:13         了了   \n",
       "16  2015-10-31 15:34:41    路過的，呵呵。   \n",
       "20  2015-10-31 15:32:02        大少爺   \n",
       "\n",
       "                                              content ORID  \n",
       "id                                                          \n",
       "9                         真奇怪，明明是歐美一個個陸續通過同婚，你是眼睛瞎了嗎？    O  \n",
       "10                         我來回答吧四處約砲 無固定性伴侶 就算是性解放的一種    I  \n",
       "14                 援交 毒品 賭博 全部比同性戀禍害更深 那麼怕的話別生了地球很危險的    I  \n",
       "16           同性戀領養現在是合法的喔，因為我們未婚都是單身者，現在單身者是可以領養小朋友的。    O  \n",
       "20  如果一直沒通過，哪來足夠的長時間和數據證明給你看？希望能結婚就等於自私嗎？異性戀自己能結婚，...    R  "
      ]
     },
     "execution_count": 578,
     "metadata": {},
     "output_type": "execute_result"
    }
   ],
   "source": [
    "print(\"Training data: {count}\".format(count=len(train)))\n",
    "train.head()"
   ]
  },
  {
   "cell_type": "code",
   "execution_count": 579,
   "metadata": {},
   "outputs": [
    {
     "name": "stdout",
     "output_type": "stream",
     "text": [
      "Validation data: 6\n"
     ]
    },
    {
     "data": {
      "text/html": [
       "<div>\n",
       "<style scoped>\n",
       "    .dataframe tbody tr th:only-of-type {\n",
       "        vertical-align: middle;\n",
       "    }\n",
       "\n",
       "    .dataframe tbody tr th {\n",
       "        vertical-align: top;\n",
       "    }\n",
       "\n",
       "    .dataframe thead th {\n",
       "        text-align: right;\n",
       "    }\n",
       "</style>\n",
       "<table border=\"1\" class=\"dataframe\">\n",
       "  <thead>\n",
       "    <tr style=\"text-align: right;\">\n",
       "      <th></th>\n",
       "      <th>createDate</th>\n",
       "      <th>authorName</th>\n",
       "      <th>content</th>\n",
       "      <th>ORID</th>\n",
       "    </tr>\n",
       "    <tr>\n",
       "      <th>id</th>\n",
       "      <th></th>\n",
       "      <th></th>\n",
       "      <th></th>\n",
       "      <th></th>\n",
       "    </tr>\n",
       "  </thead>\n",
       "  <tbody>\n",
       "    <tr>\n",
       "      <th>6</th>\n",
       "      <td>2015-10-31 15:53:48</td>\n",
       "      <td>黃道明</td>\n",
       "      <td>在台灣已經有同志收養小孩了，你的資訊是多落伍～</td>\n",
       "      <td>O</td>\n",
       "    </tr>\n",
       "    <tr>\n",
       "      <th>14091</th>\n",
       "      <td>2015-08-04 4:56:35</td>\n",
       "      <td>杜里昂</td>\n",
       "      <td>同性戀要什麼權利還要你們\"給\"，你們是哪根蔥啊？人權是最基本的保障好嗎？但至少是第一步…… ...</td>\n",
       "      <td>R</td>\n",
       "    </tr>\n",
       "    <tr>\n",
       "      <th>14101</th>\n",
       "      <td>2015-08-04 4:00:00</td>\n",
       "      <td>RED</td>\n",
       "      <td>參考國外已上路的同性婚姻可見，在同性婚姻合法化並制定在原婚姻法基礎上，非專案法管理，結果是雙...</td>\n",
       "      <td>I</td>\n",
       "    </tr>\n",
       "    <tr>\n",
       "      <th>14126</th>\n",
       "      <td>2015-08-03 15:46:03</td>\n",
       "      <td>馮耿</td>\n",
       "      <td>１。讚成同性也有婚姻的基本權利,但無須另設新法(改民法的用語定義不就好了@@?)。２。讚成伴...</td>\n",
       "      <td>D</td>\n",
       "    </tr>\n",
       "    <tr>\n",
       "      <th>14132</th>\n",
       "      <td>2015-08-03 10:14:57</td>\n",
       "      <td>黑桐喵</td>\n",
       "      <td>原來別人要不要結婚須要所有人一起投票決定。既然都說了「政府對全體人民的人權有履行義務且不應以...</td>\n",
       "      <td>R</td>\n",
       "    </tr>\n",
       "  </tbody>\n",
       "</table>\n",
       "</div>"
      ],
      "text/plain": [
       "                createDate authorName  \\\n",
       "id                                      \n",
       "6      2015-10-31 15:53:48        黃道明   \n",
       "14091   2015-08-04 4:56:35        杜里昂   \n",
       "14101   2015-08-04 4:00:00        RED   \n",
       "14126  2015-08-03 15:46:03         馮耿   \n",
       "14132  2015-08-03 10:14:57        黑桐喵   \n",
       "\n",
       "                                                 content ORID  \n",
       "id                                                             \n",
       "6                                在台灣已經有同志收養小孩了，你的資訊是多落伍～    O  \n",
       "14091  同性戀要什麼權利還要你們\"給\"，你們是哪根蔥啊？人權是最基本的保障好嗎？但至少是第一步…… ...    R  \n",
       "14101  參考國外已上路的同性婚姻可見，在同性婚姻合法化並制定在原婚姻法基礎上，非專案法管理，結果是雙...    I  \n",
       "14126  １。讚成同性也有婚姻的基本權利,但無須另設新法(改民法的用語定義不就好了@@?)。２。讚成伴...    D  \n",
       "14132  原來別人要不要結婚須要所有人一起投票決定。既然都說了「政府對全體人民的人權有履行義務且不應以...    R  "
      ]
     },
     "execution_count": 579,
     "metadata": {},
     "output_type": "execute_result"
    }
   ],
   "source": [
    "print(\"Validation data: {count}\".format(count=len(valid)))\n",
    "valid.head()"
   ]
  },
  {
   "cell_type": "markdown",
   "metadata": {},
   "source": [
    "Convert datasets to word embeddings."
   ]
  },
  {
   "cell_type": "code",
   "execution_count": 580,
   "metadata": {},
   "outputs": [],
   "source": [
    "def get_data(messages):\n",
    "    jieba_cut = np.frompyfunc(lambda x: [ ph for ph in jieba.lcut(x.decode(\"utf-8\")) if ph != u\" \" ][:input_length], 1, 1)\n",
    "    word_embed = np.frompyfunc(lambda x: [ dict_index[ph] for ph in x ], 1, 1)\n",
    "    fill_to_length = np.frompyfunc(lambda x: x + [0] * (input_length - len(x)), 1, 1)\n",
    "    return np.stack(fill_to_length(word_embed(jieba_cut(messages.content.values))), axis=0)\n",
    "\n",
    "answers = { \"O\": 0, \"R\": 1, \"I\": 2, \"D\": 3 }\n",
    "\n",
    "def get_answer(messages):\n",
    "    return np.array([ answers[x] for x in messages.ORID ])\n",
    "\n",
    "train = (get_data(train), get_answer(train))\n",
    "valid = (get_data(valid), get_answer(valid))"
   ]
  },
  {
   "cell_type": "code",
   "execution_count": 581,
   "metadata": {},
   "outputs": [
    {
     "data": {
      "text/plain": [
       "(array([17293, 22897, 38608,  3570, 17341,  6481, 20914, 40590,  2743,\n",
       "         4100,  6481, 28378, 19941, 10141, 10141, 10141, 10141, 10141,\n",
       "         3570, 19941, 17363, 25141, 32542,  3069, 30973,  4387,  6481,\n",
       "        20303,   679, 10141,     0,     0,     0,     0,     0,     0,\n",
       "            0,     0,     0,     0,     0,     0,     0,     0,     0,\n",
       "            0,     0,     0,     0,     0]),\n",
       " 1,\n",
       " array([43195, 11227, 21960, 17636, 38356, 29589, 19089, 17341, 20914,\n",
       "        30973,  4387, 44296,  5882, 16474, 31682,  4569,     0,     0,\n",
       "            0,     0,     0,     0,     0,     0,     0,     0,     0,\n",
       "            0,     0,     0,     0,     0,     0,     0,     0,     0,\n",
       "            0,     0,     0,     0,     0,     0,     0,     0,     0,\n",
       "            0,     0,     0,     0,     0]),\n",
       " 0)"
      ]
     },
     "execution_count": 581,
     "metadata": {},
     "output_type": "execute_result"
    }
   ],
   "source": [
    "train[0][10], train[1][10], valid[0][0], valid[1][0]"
   ]
  },
  {
   "cell_type": "markdown",
   "metadata": {},
   "source": [
    "# Single hidden layer model"
   ]
  },
  {
   "cell_type": "code",
   "execution_count": 582,
   "metadata": {},
   "outputs": [
    {
     "name": "stdout",
     "output_type": "stream",
     "text": [
      "____________________________________________________________________________________________________\n",
      "Layer (type)                     Output Shape          Param #     Connected to                     \n",
      "====================================================================================================\n",
      "embedding_5 (Embedding)          (None, 50, 300)       13486800    embedding_input_5[0][0]          \n",
      "____________________________________________________________________________________________________\n",
      "dense_6 (Dense)                  (None, 50, 512)       154112      embedding_5[0][0]                \n",
      "____________________________________________________________________________________________________\n",
      "dense_7 (Dense)                  (None, 50, 4)         2052        dense_6[0][0]                    \n",
      "====================================================================================================\n",
      "Total params: 13,642,964\n",
      "Trainable params: 13,642,964\n",
      "Non-trainable params: 0\n",
      "____________________________________________________________________________________________________\n"
     ]
    }
   ],
   "source": [
    "def linear_model():\n",
    "    model = Sequential()\n",
    "    model.add(create_embeddings(dictionary, input_length))\n",
    "    model.add(Dense(512))\n",
    "    model.add(Dense(4, activation=\"softmax\"))\n",
    "    return model\n",
    "\n",
    "linear = linear_model()\n",
    "linear.summary()"
   ]
  },
  {
   "cell_type": "code",
   "execution_count": 583,
   "metadata": {},
   "outputs": [],
   "source": [
    "linear.compile(\"adam\", loss=\"categorical_crossentropy\", metrics=[\"accuracy\"])"
   ]
  },
  {
   "cell_type": "code",
   "execution_count": 584,
   "metadata": {},
   "outputs": [
    {
     "ename": "ValueError",
     "evalue": "Error when checking model target: expected dense_7 to have 3 dimensions, but got array with shape (52, 1)",
     "output_type": "error",
     "traceback": [
      "\u001b[0;31m---------------------------------------------------------------------------\u001b[0m",
      "\u001b[0;31mValueError\u001b[0m                                Traceback (most recent call last)",
      "\u001b[0;32m<ipython-input-584-f6baeb7c44ca>\u001b[0m in \u001b[0;36m<module>\u001b[0;34m()\u001b[0m\n\u001b[0;32m----> 1\u001b[0;31m \u001b[0mlinear\u001b[0m\u001b[0;34m.\u001b[0m\u001b[0mfit\u001b[0m\u001b[0;34m(\u001b[0m\u001b[0mtrain\u001b[0m\u001b[0;34m[\u001b[0m\u001b[0;36m0\u001b[0m\u001b[0;34m]\u001b[0m\u001b[0;34m,\u001b[0m \u001b[0mtrain\u001b[0m\u001b[0;34m[\u001b[0m\u001b[0;36m1\u001b[0m\u001b[0;34m]\u001b[0m\u001b[0;34m,\u001b[0m \u001b[0mnb_epoch\u001b[0m\u001b[0;34m=\u001b[0m\u001b[0;36m1\u001b[0m\u001b[0;34m,\u001b[0m \u001b[0mvalidation_data\u001b[0m\u001b[0;34m=\u001b[0m\u001b[0mvalid\u001b[0m\u001b[0;34m)\u001b[0m\u001b[0;34m\u001b[0m\u001b[0m\n\u001b[0m",
      "\u001b[0;32m/Users/pm5/.local/share/virtualenvs/ggv-example-1H9VW0Dl/lib/python2.7/site-packages/keras/models.pyc\u001b[0m in \u001b[0;36mfit\u001b[0;34m(self, x, y, batch_size, nb_epoch, verbose, callbacks, validation_split, validation_data, shuffle, class_weight, sample_weight, initial_epoch, **kwargs)\u001b[0m\n\u001b[1;32m    670\u001b[0m                               \u001b[0mclass_weight\u001b[0m\u001b[0;34m=\u001b[0m\u001b[0mclass_weight\u001b[0m\u001b[0;34m,\u001b[0m\u001b[0;34m\u001b[0m\u001b[0m\n\u001b[1;32m    671\u001b[0m                               \u001b[0msample_weight\u001b[0m\u001b[0;34m=\u001b[0m\u001b[0msample_weight\u001b[0m\u001b[0;34m,\u001b[0m\u001b[0;34m\u001b[0m\u001b[0m\n\u001b[0;32m--> 672\u001b[0;31m                               initial_epoch=initial_epoch)\n\u001b[0m\u001b[1;32m    673\u001b[0m \u001b[0;34m\u001b[0m\u001b[0m\n\u001b[1;32m    674\u001b[0m     def evaluate(self, x, y, batch_size=32, verbose=1,\n",
      "\u001b[0;32m/Users/pm5/.local/share/virtualenvs/ggv-example-1H9VW0Dl/lib/python2.7/site-packages/keras/engine/training.pyc\u001b[0m in \u001b[0;36mfit\u001b[0;34m(self, x, y, batch_size, nb_epoch, verbose, callbacks, validation_split, validation_data, shuffle, class_weight, sample_weight, initial_epoch)\u001b[0m\n\u001b[1;32m   1114\u001b[0m             \u001b[0mclass_weight\u001b[0m\u001b[0;34m=\u001b[0m\u001b[0mclass_weight\u001b[0m\u001b[0;34m,\u001b[0m\u001b[0;34m\u001b[0m\u001b[0m\n\u001b[1;32m   1115\u001b[0m             \u001b[0mcheck_batch_axis\u001b[0m\u001b[0;34m=\u001b[0m\u001b[0mFalse\u001b[0m\u001b[0;34m,\u001b[0m\u001b[0;34m\u001b[0m\u001b[0m\n\u001b[0;32m-> 1116\u001b[0;31m             batch_size=batch_size)\n\u001b[0m\u001b[1;32m   1117\u001b[0m         \u001b[0;31m# prepare validation data\u001b[0m\u001b[0;34m\u001b[0m\u001b[0;34m\u001b[0m\u001b[0m\n\u001b[1;32m   1118\u001b[0m         \u001b[0;32mif\u001b[0m \u001b[0mvalidation_data\u001b[0m\u001b[0;34m:\u001b[0m\u001b[0;34m\u001b[0m\u001b[0m\n",
      "\u001b[0;32m/Users/pm5/.local/share/virtualenvs/ggv-example-1H9VW0Dl/lib/python2.7/site-packages/keras/engine/training.pyc\u001b[0m in \u001b[0;36m_standardize_user_data\u001b[0;34m(self, x, y, sample_weight, class_weight, check_batch_axis, batch_size)\u001b[0m\n\u001b[1;32m   1031\u001b[0m                                    \u001b[0moutput_shapes\u001b[0m\u001b[0;34m,\u001b[0m\u001b[0;34m\u001b[0m\u001b[0m\n\u001b[1;32m   1032\u001b[0m                                    \u001b[0mcheck_batch_axis\u001b[0m\u001b[0;34m=\u001b[0m\u001b[0mFalse\u001b[0m\u001b[0;34m,\u001b[0m\u001b[0;34m\u001b[0m\u001b[0m\n\u001b[0;32m-> 1033\u001b[0;31m                                    exception_prefix='model target')\n\u001b[0m\u001b[1;32m   1034\u001b[0m         sample_weights = standardize_sample_weights(sample_weight,\n\u001b[1;32m   1035\u001b[0m                                                     self.output_names)\n",
      "\u001b[0;32m/Users/pm5/.local/share/virtualenvs/ggv-example-1H9VW0Dl/lib/python2.7/site-packages/keras/engine/training.pyc\u001b[0m in \u001b[0;36mstandardize_input_data\u001b[0;34m(data, names, shapes, check_batch_axis, exception_prefix)\u001b[0m\n\u001b[1;32m    110\u001b[0m                                  \u001b[0;34m' to have '\u001b[0m \u001b[0;34m+\u001b[0m \u001b[0mstr\u001b[0m\u001b[0;34m(\u001b[0m\u001b[0mlen\u001b[0m\u001b[0;34m(\u001b[0m\u001b[0mshapes\u001b[0m\u001b[0;34m[\u001b[0m\u001b[0mi\u001b[0m\u001b[0;34m]\u001b[0m\u001b[0;34m)\u001b[0m\u001b[0;34m)\u001b[0m \u001b[0;34m+\u001b[0m\u001b[0;34m\u001b[0m\u001b[0m\n\u001b[1;32m    111\u001b[0m                                  \u001b[0;34m' dimensions, but got array with shape '\u001b[0m \u001b[0;34m+\u001b[0m\u001b[0;34m\u001b[0m\u001b[0m\n\u001b[0;32m--> 112\u001b[0;31m                                  str(array.shape))\n\u001b[0m\u001b[1;32m    113\u001b[0m             \u001b[0;32mfor\u001b[0m \u001b[0mj\u001b[0m\u001b[0;34m,\u001b[0m \u001b[0;34m(\u001b[0m\u001b[0mdim\u001b[0m\u001b[0;34m,\u001b[0m \u001b[0mref_dim\u001b[0m\u001b[0;34m)\u001b[0m \u001b[0;32min\u001b[0m \u001b[0menumerate\u001b[0m\u001b[0;34m(\u001b[0m\u001b[0mzip\u001b[0m\u001b[0;34m(\u001b[0m\u001b[0marray\u001b[0m\u001b[0;34m.\u001b[0m\u001b[0mshape\u001b[0m\u001b[0;34m,\u001b[0m \u001b[0mshapes\u001b[0m\u001b[0;34m[\u001b[0m\u001b[0mi\u001b[0m\u001b[0;34m]\u001b[0m\u001b[0;34m)\u001b[0m\u001b[0;34m)\u001b[0m\u001b[0;34m:\u001b[0m\u001b[0;34m\u001b[0m\u001b[0m\n\u001b[1;32m    114\u001b[0m                 \u001b[0;32mif\u001b[0m \u001b[0;32mnot\u001b[0m \u001b[0mj\u001b[0m \u001b[0;32mand\u001b[0m \u001b[0;32mnot\u001b[0m \u001b[0mcheck_batch_axis\u001b[0m\u001b[0;34m:\u001b[0m\u001b[0;34m\u001b[0m\u001b[0m\n",
      "\u001b[0;31mValueError\u001b[0m: Error when checking model target: expected dense_7 to have 3 dimensions, but got array with shape (52, 1)"
     ]
    }
   ],
   "source": [
    "linear.fit(train[0], train[1], nb_epoch=1, validation_data=valid)"
   ]
  },
  {
   "cell_type": "code",
   "execution_count": null,
   "metadata": {},
   "outputs": [],
   "source": []
  }
 ],
 "metadata": {
  "kernelspec": {
   "display_name": "Python 2",
   "language": "python",
   "name": "python2"
  },
  "language_info": {
   "codemirror_mode": {
    "name": "ipython",
    "version": 2
   },
   "file_extension": ".py",
   "mimetype": "text/x-python",
   "name": "python",
   "nbconvert_exporter": "python",
   "pygments_lexer": "ipython2",
   "version": "2.7.10"
  }
 },
 "nbformat": 4,
 "nbformat_minor": 2
}
