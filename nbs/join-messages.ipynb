{
 "cells": [
  {
   "cell_type": "markdown",
   "metadata": {},
   "source": [
    "# Join 平台眾開講"
   ]
  },
  {
   "cell_type": "markdown",
   "metadata": {},
   "source": [
    "## Setup"
   ]
  },
  {
   "cell_type": "code",
   "execution_count": 1,
   "metadata": {},
   "outputs": [],
   "source": [
    "path = \"data/join\"\n",
    "topic = \"立法方式保障\"\n",
    "# topic = \"同性伴侣法\"\n",
    "# topic = \"同性婚姻法\""
   ]
  },
  {
   "cell_type": "code",
   "execution_count": 2,
   "metadata": {},
   "outputs": [
    {
     "name": "stderr",
     "output_type": "stream",
     "text": [
      "Using TensorFlow backend.\n"
     ]
    }
   ],
   "source": [
    "from __future__ import division, print_function\n",
    "import pandas as pd, numpy as np\n",
    "import jieba\n",
    "from keras.models import Sequential\n",
    "from keras.layers import Embedding, Dense, Flatten, Dropout\n",
    "import os, math"
   ]
  },
  {
   "cell_type": "markdown",
   "metadata": {},
   "source": [
    "Read in messages from CSV."
   ]
  },
  {
   "cell_type": "code",
   "execution_count": 3,
   "metadata": {},
   "outputs": [
    {
     "name": "stdout",
     "output_type": "stream",
     "text": [
      "Total messages: 10215\n",
      "Labeled messages: 63\n"
     ]
    },
    {
     "data": {
      "text/html": [
       "<div>\n",
       "<style scoped>\n",
       "    .dataframe tbody tr th:only-of-type {\n",
       "        vertical-align: middle;\n",
       "    }\n",
       "\n",
       "    .dataframe tbody tr th {\n",
       "        vertical-align: top;\n",
       "    }\n",
       "\n",
       "    .dataframe thead th {\n",
       "        text-align: right;\n",
       "    }\n",
       "</style>\n",
       "<table border=\"1\" class=\"dataframe\">\n",
       "  <thead>\n",
       "    <tr style=\"text-align: right;\">\n",
       "      <th></th>\n",
       "      <th>createDate</th>\n",
       "      <th>authorName</th>\n",
       "      <th>content</th>\n",
       "      <th>ORID</th>\n",
       "      <th>comments</th>\n",
       "    </tr>\n",
       "    <tr>\n",
       "      <th>id</th>\n",
       "      <th></th>\n",
       "      <th></th>\n",
       "      <th></th>\n",
       "      <th></th>\n",
       "      <th></th>\n",
       "    </tr>\n",
       "  </thead>\n",
       "  <tbody>\n",
       "    <tr>\n",
       "      <th>14136</th>\n",
       "      <td>2015-08-03 8:57:21</td>\n",
       "      <td>Shaffer Lin</td>\n",
       "      <td>「政府對全體人民的人權有履行義務且不應以公眾之意見作為履行的條件」那現在在投什麼？自打嘴巴？...</td>\n",
       "      <td>R</td>\n",
       "      <td>NaN</td>\n",
       "    </tr>\n",
       "    <tr>\n",
       "      <th>14135</th>\n",
       "      <td>2015-08-03 9:30:52</td>\n",
       "      <td>Oliver Lin</td>\n",
       "      <td>贊成歸贊成但更贊成就直接修民法就好了不用疊床架屋我要的沒有比較特別就是現在一堆人在結的那個婚姻</td>\n",
       "      <td>D</td>\n",
       "      <td>NaN</td>\n",
       "    </tr>\n",
       "    <tr>\n",
       "      <th>14134</th>\n",
       "      <td>2015-08-03 10:05:26</td>\n",
       "      <td>蛍一 森里</td>\n",
       "      <td>與其以立法的方式來保障不如用修法的方式來保障不是比較方便一些?</td>\n",
       "      <td>I</td>\n",
       "      <td>NaN</td>\n",
       "    </tr>\n",
       "    <tr>\n",
       "      <th>14133</th>\n",
       "      <td>2015-08-03 10:08:00</td>\n",
       "      <td>楊剛</td>\n",
       "      <td>投你個花開富貴啦我要不要結婚關順性別異性戀沙豬什麼事啊？啊連個草案都沒有的東西是要投三小喔？...</td>\n",
       "      <td>R</td>\n",
       "      <td>NaN</td>\n",
       "    </tr>\n",
       "    <tr>\n",
       "      <th>14132</th>\n",
       "      <td>2015-08-03 10:14:57</td>\n",
       "      <td>黑桐喵</td>\n",
       "      <td>原來別人要不要結婚須要所有人一起投票決定。既然都說了「政府對全體人民的人權有履行義務且不應以...</td>\n",
       "      <td>R</td>\n",
       "      <td>NaN</td>\n",
       "    </tr>\n",
       "  </tbody>\n",
       "</table>\n",
       "</div>"
      ],
      "text/plain": [
       "                createDate   authorName  \\\n",
       "id                                        \n",
       "14136   2015-08-03 8:57:21  Shaffer Lin   \n",
       "14135   2015-08-03 9:30:52   Oliver Lin   \n",
       "14134  2015-08-03 10:05:26        蛍一 森里   \n",
       "14133  2015-08-03 10:08:00           楊剛   \n",
       "14132  2015-08-03 10:14:57          黑桐喵   \n",
       "\n",
       "                                                 content ORID  comments  \n",
       "id                                                                       \n",
       "14136  「政府對全體人民的人權有履行義務且不應以公眾之意見作為履行的條件」那現在在投什麼？自打嘴巴？...    R       NaN  \n",
       "14135    贊成歸贊成但更贊成就直接修民法就好了不用疊床架屋我要的沒有比較特別就是現在一堆人在結的那個婚姻    D       NaN  \n",
       "14134                    與其以立法的方式來保障不如用修法的方式來保障不是比較方便一些?    I       NaN  \n",
       "14133  投你個花開富貴啦我要不要結婚關順性別異性戀沙豬什麼事啊？啊連個草案都沒有的東西是要投三小喔？...    R       NaN  \n",
       "14132  原來別人要不要結婚須要所有人一起投票決定。既然都說了「政府對全體人民的人權有履行義務且不應以...    R       NaN  "
      ]
     },
     "execution_count": 3,
     "metadata": {},
     "output_type": "execute_result"
    }
   ],
   "source": [
    "def get_messages_from_orig(topic):\n",
    "    messages = pd.read_csv(os.path.join(path, topic + \".csv\"), index_col=0)\n",
    "    mask = messages.astype('str').applymap(lambda x: len(x.decode('utf-8'))).content > 20\n",
    "    messages = messages[mask]\n",
    "    messages.to_csv(os.path.join(path, topic + \"-good.csv\"))\n",
    "    return messages\n",
    "\n",
    "def get_labeled_messages(topic):\n",
    "    return pd.read_csv(os.path.join(path, topic + \"-good.csv\"), index_col=0)\n",
    "\n",
    "def labeled_only(messages):\n",
    "    return messages[messages.ORID.notnull()]\n",
    "\n",
    "def unlabeled_only(messages):\n",
    "    return messages[messages.ORID.isnull()]\n",
    "    \n",
    "all_messages = get_messages_from_orig(topic) if not os.path.exists(os.path.join(path, topic + \"-good.csv\")) \\\n",
    "                                         else get_labeled_messages(topic)\n",
    "print(\"Total messages: {count}\".format(count=len(all_messages)))\n",
    "messages = labeled_only(all_messages)\n",
    "print(\"Labeled messages: {count}\".format(count=len(messages)))\n",
    "messages.head()"
   ]
  },
  {
   "cell_type": "markdown",
   "metadata": {},
   "source": [
    "Build dictionary of phrases and load word embeddings."
   ]
  },
  {
   "cell_type": "code",
   "execution_count": 4,
   "metadata": {},
   "outputs": [
    {
     "name": "stderr",
     "output_type": "stream",
     "text": [
      "Building prefix dict from the default dictionary ...\n",
      "Loading model from cache /var/folders/sy/q12w5xyn4lngqxh_j63vwr4h0000gn/T/jieba.cache\n",
      "Loading model cost 0.453 seconds.\n",
      "Prefix dict has been built succesfully.\n"
     ]
    },
    {
     "data": {
      "text/plain": [
       "(44956, 300)"
      ]
     },
     "execution_count": 4,
     "metadata": {},
     "output_type": "execute_result"
    }
   ],
   "source": [
    "def write_dictionary(messages):\n",
    "    contents = [ jieba.lcut(c) for c in messages.content ]\n",
    "    all_phrases = set([ ph for c in contents for ph in c ])\n",
    "    with open(os.path.join(path, \"dictionary.txt\"), \"w\") as fh:\n",
    "        for ph in all_phrases:\n",
    "            fh.write(ph.encode(\"utf-8\") + \"\\n\")\n",
    "            \n",
    "def read_dictionary():\n",
    "    dictionary = pd.read_csv(os.path.join(path, \"dictionary.vec\"), \n",
    "                       delim_whitespace=True, engine=\"python\", header=None, index_col=0)\n",
    "    return dictionary\n",
    "\n",
    "if not os.path.exists(\"dictionary.vec\"):\n",
    "    write_dictionary(all_messages)\n",
    "    !cd data/join; ../../../bin/fasttext print-word-vectors models/wiki.zh.bin < dictionary.txt > dictionary.vec\n",
    "dictionary = read_dictionary()\n",
    "dictionary.shape"
   ]
  },
  {
   "cell_type": "markdown",
   "metadata": {},
   "source": [
    "Build dictionary index to convert phrases into embedding vectors."
   ]
  },
  {
   "cell_type": "code",
   "execution_count": 5,
   "metadata": {},
   "outputs": [
    {
     "data": {
      "text/plain": [
       "(35102, 1      True\n",
       " 2      True\n",
       " 3      True\n",
       " 4      True\n",
       " 5      True\n",
       " 6      True\n",
       " 7      True\n",
       " 8      True\n",
       " 9      True\n",
       " 10     True\n",
       " 11     True\n",
       " 12     True\n",
       " 13     True\n",
       " 14     True\n",
       " 15     True\n",
       " 16     True\n",
       " 17     True\n",
       " 18     True\n",
       " 19     True\n",
       " 20     True\n",
       " 21     True\n",
       " 22     True\n",
       " 23     True\n",
       " 24     True\n",
       " 25     True\n",
       " 26     True\n",
       " 27     True\n",
       " 28     True\n",
       " 29     True\n",
       " 30     True\n",
       "        ... \n",
       " 271    True\n",
       " 272    True\n",
       " 273    True\n",
       " 274    True\n",
       " 275    True\n",
       " 276    True\n",
       " 277    True\n",
       " 278    True\n",
       " 279    True\n",
       " 280    True\n",
       " 281    True\n",
       " 282    True\n",
       " 283    True\n",
       " 284    True\n",
       " 285    True\n",
       " 286    True\n",
       " 287    True\n",
       " 288    True\n",
       " 289    True\n",
       " 290    True\n",
       " 291    True\n",
       " 292    True\n",
       " 293    True\n",
       " 294    True\n",
       " 295    True\n",
       " 296    True\n",
       " 297    True\n",
       " 298    True\n",
       " 299    True\n",
       " 300    True\n",
       " Name: 同性, Length: 300, dtype: bool)"
      ]
     },
     "execution_count": 5,
     "metadata": {},
     "output_type": "execute_result"
    }
   ],
   "source": [
    "dict_index = { ph.decode(\"utf-8\"): i for i, ph in enumerate(dictionary.index) }\n",
    "dict_index[u\"同性\"], dictionary.iloc[dict_index[u\"同性\"]] == dictionary.loc[\"同性\"]"
   ]
  },
  {
   "cell_type": "code",
   "execution_count": 6,
   "metadata": {},
   "outputs": [],
   "source": [
    "input_length = 50\n",
    "batch_size = 64"
   ]
  },
  {
   "cell_type": "code",
   "execution_count": 7,
   "metadata": {},
   "outputs": [],
   "source": [
    "def create_embeddings(dictionary, input_length=100):\n",
    "    phrases, latents = dictionary.shape\n",
    "    embedding = Embedding(phrases, latents, input_length=input_length, weights=[dictionary])\n",
    "    return embedding"
   ]
  },
  {
   "cell_type": "markdown",
   "metadata": {},
   "source": [
    "Separate the messages into training and validation datasets."
   ]
  },
  {
   "cell_type": "code",
   "execution_count": 8,
   "metadata": {},
   "outputs": [],
   "source": [
    "select = np.random.random(len(messages)) < 0.9\n",
    "train = messages[select]\n",
    "valid = messages[~select]"
   ]
  },
  {
   "cell_type": "code",
   "execution_count": 9,
   "metadata": {},
   "outputs": [
    {
     "name": "stdout",
     "output_type": "stream",
     "text": [
      "Training data: 57\n"
     ]
    },
    {
     "data": {
      "text/html": [
       "<div>\n",
       "<style scoped>\n",
       "    .dataframe tbody tr th:only-of-type {\n",
       "        vertical-align: middle;\n",
       "    }\n",
       "\n",
       "    .dataframe tbody tr th {\n",
       "        vertical-align: top;\n",
       "    }\n",
       "\n",
       "    .dataframe thead th {\n",
       "        text-align: right;\n",
       "    }\n",
       "</style>\n",
       "<table border=\"1\" class=\"dataframe\">\n",
       "  <thead>\n",
       "    <tr style=\"text-align: right;\">\n",
       "      <th></th>\n",
       "      <th>createDate</th>\n",
       "      <th>authorName</th>\n",
       "      <th>content</th>\n",
       "      <th>ORID</th>\n",
       "      <th>comments</th>\n",
       "    </tr>\n",
       "    <tr>\n",
       "      <th>id</th>\n",
       "      <th></th>\n",
       "      <th></th>\n",
       "      <th></th>\n",
       "      <th></th>\n",
       "      <th></th>\n",
       "    </tr>\n",
       "  </thead>\n",
       "  <tbody>\n",
       "    <tr>\n",
       "      <th>14134</th>\n",
       "      <td>2015-08-03 10:05:26</td>\n",
       "      <td>蛍一 森里</td>\n",
       "      <td>與其以立法的方式來保障不如用修法的方式來保障不是比較方便一些?</td>\n",
       "      <td>I</td>\n",
       "      <td>NaN</td>\n",
       "    </tr>\n",
       "    <tr>\n",
       "      <th>14133</th>\n",
       "      <td>2015-08-03 10:08:00</td>\n",
       "      <td>楊剛</td>\n",
       "      <td>投你個花開富貴啦我要不要結婚關順性別異性戀沙豬什麼事啊？啊連個草案都沒有的東西是要投三小喔？...</td>\n",
       "      <td>R</td>\n",
       "      <td>NaN</td>\n",
       "    </tr>\n",
       "    <tr>\n",
       "      <th>14132</th>\n",
       "      <td>2015-08-03 10:14:57</td>\n",
       "      <td>黑桐喵</td>\n",
       "      <td>原來別人要不要結婚須要所有人一起投票決定。既然都說了「政府對全體人民的人權有履行義務且不應以...</td>\n",
       "      <td>R</td>\n",
       "      <td>NaN</td>\n",
       "    </tr>\n",
       "    <tr>\n",
       "      <th>14131</th>\n",
       "      <td>2015-08-03 10:21:00</td>\n",
       "      <td>Janus Chang</td>\n",
       "      <td>讓更多人可以結婚到底有甚麼問題???? 一堆拿幾千年前教條來干預現代人生活的人真的是社會的敗類。</td>\n",
       "      <td>R</td>\n",
       "      <td>NaN</td>\n",
       "    </tr>\n",
       "    <tr>\n",
       "      <th>14130</th>\n",
       "      <td>2015-08-03 13:06:12</td>\n",
       "      <td>Thomas Chen</td>\n",
       "      <td>支持婚姻平權.一步到位.台灣並不以宗教立國.人民有人民的格調.請政府跟上我们的腳步.如果我们...</td>\n",
       "      <td>D</td>\n",
       "      <td>NaN</td>\n",
       "    </tr>\n",
       "  </tbody>\n",
       "</table>\n",
       "</div>"
      ],
      "text/plain": [
       "                createDate   authorName  \\\n",
       "id                                        \n",
       "14134  2015-08-03 10:05:26        蛍一 森里   \n",
       "14133  2015-08-03 10:08:00           楊剛   \n",
       "14132  2015-08-03 10:14:57          黑桐喵   \n",
       "14131  2015-08-03 10:21:00  Janus Chang   \n",
       "14130  2015-08-03 13:06:12  Thomas Chen   \n",
       "\n",
       "                                                 content ORID  comments  \n",
       "id                                                                       \n",
       "14134                    與其以立法的方式來保障不如用修法的方式來保障不是比較方便一些?    I       NaN  \n",
       "14133  投你個花開富貴啦我要不要結婚關順性別異性戀沙豬什麼事啊？啊連個草案都沒有的東西是要投三小喔？...    R       NaN  \n",
       "14132  原來別人要不要結婚須要所有人一起投票決定。既然都說了「政府對全體人民的人權有履行義務且不應以...    R       NaN  \n",
       "14131   讓更多人可以結婚到底有甚麼問題???? 一堆拿幾千年前教條來干預現代人生活的人真的是社會的敗類。    R       NaN  \n",
       "14130  支持婚姻平權.一步到位.台灣並不以宗教立國.人民有人民的格調.請政府跟上我们的腳步.如果我们...    D       NaN  "
      ]
     },
     "execution_count": 9,
     "metadata": {},
     "output_type": "execute_result"
    }
   ],
   "source": [
    "print(\"Training data: {count}\".format(count=len(train)))\n",
    "train.head()"
   ]
  },
  {
   "cell_type": "code",
   "execution_count": 10,
   "metadata": {},
   "outputs": [
    {
     "name": "stdout",
     "output_type": "stream",
     "text": [
      "Validation data: 6\n"
     ]
    },
    {
     "data": {
      "text/html": [
       "<div>\n",
       "<style scoped>\n",
       "    .dataframe tbody tr th:only-of-type {\n",
       "        vertical-align: middle;\n",
       "    }\n",
       "\n",
       "    .dataframe tbody tr th {\n",
       "        vertical-align: top;\n",
       "    }\n",
       "\n",
       "    .dataframe thead th {\n",
       "        text-align: right;\n",
       "    }\n",
       "</style>\n",
       "<table border=\"1\" class=\"dataframe\">\n",
       "  <thead>\n",
       "    <tr style=\"text-align: right;\">\n",
       "      <th></th>\n",
       "      <th>createDate</th>\n",
       "      <th>authorName</th>\n",
       "      <th>content</th>\n",
       "      <th>ORID</th>\n",
       "      <th>comments</th>\n",
       "    </tr>\n",
       "    <tr>\n",
       "      <th>id</th>\n",
       "      <th></th>\n",
       "      <th></th>\n",
       "      <th></th>\n",
       "      <th></th>\n",
       "      <th></th>\n",
       "    </tr>\n",
       "  </thead>\n",
       "  <tbody>\n",
       "    <tr>\n",
       "      <th>14136</th>\n",
       "      <td>2015-08-03 8:57:21</td>\n",
       "      <td>Shaffer Lin</td>\n",
       "      <td>「政府對全體人民的人權有履行義務且不應以公眾之意見作為履行的條件」那現在在投什麼？自打嘴巴？...</td>\n",
       "      <td>R</td>\n",
       "      <td>NaN</td>\n",
       "    </tr>\n",
       "    <tr>\n",
       "      <th>14135</th>\n",
       "      <td>2015-08-03 9:30:52</td>\n",
       "      <td>Oliver Lin</td>\n",
       "      <td>贊成歸贊成但更贊成就直接修民法就好了不用疊床架屋我要的沒有比較特別就是現在一堆人在結的那個婚姻</td>\n",
       "      <td>D</td>\n",
       "      <td>NaN</td>\n",
       "    </tr>\n",
       "    <tr>\n",
       "      <th>14126</th>\n",
       "      <td>2015-08-03 15:46:03</td>\n",
       "      <td>馮耿</td>\n",
       "      <td>１。讚成同性也有婚姻的基本權利,但無須另設新法(改民法的用語定義不就好了@@?)。２。讚成伴...</td>\n",
       "      <td>D</td>\n",
       "      <td>NaN</td>\n",
       "    </tr>\n",
       "    <tr>\n",
       "      <th>14122</th>\n",
       "      <td>2015-08-03 17:15:52</td>\n",
       "      <td>小白</td>\n",
       "      <td>命題本身就充滿歧視！我贊成修改民法，返還長期剝奪同性戀者組成配偶的權益！</td>\n",
       "      <td>D</td>\n",
       "      <td>NaN</td>\n",
       "    </tr>\n",
       "    <tr>\n",
       "      <th>35</th>\n",
       "      <td>2015-10-31 14:27:20</td>\n",
       "      <td>宮紅雪</td>\n",
       "      <td>XDD我覺得她長的滿可愛 就是笑的有點假最後一張好酷</td>\n",
       "      <td>R</td>\n",
       "      <td>NaN</td>\n",
       "    </tr>\n",
       "  </tbody>\n",
       "</table>\n",
       "</div>"
      ],
      "text/plain": [
       "                createDate   authorName  \\\n",
       "id                                        \n",
       "14136   2015-08-03 8:57:21  Shaffer Lin   \n",
       "14135   2015-08-03 9:30:52   Oliver Lin   \n",
       "14126  2015-08-03 15:46:03           馮耿   \n",
       "14122  2015-08-03 17:15:52           小白   \n",
       "35     2015-10-31 14:27:20          宮紅雪   \n",
       "\n",
       "                                                 content ORID  comments  \n",
       "id                                                                       \n",
       "14136  「政府對全體人民的人權有履行義務且不應以公眾之意見作為履行的條件」那現在在投什麼？自打嘴巴？...    R       NaN  \n",
       "14135    贊成歸贊成但更贊成就直接修民法就好了不用疊床架屋我要的沒有比較特別就是現在一堆人在結的那個婚姻    D       NaN  \n",
       "14126  １。讚成同性也有婚姻的基本權利,但無須另設新法(改民法的用語定義不就好了@@?)。２。讚成伴...    D       NaN  \n",
       "14122               命題本身就充滿歧視！我贊成修改民法，返還長期剝奪同性戀者組成配偶的權益！    D       NaN  \n",
       "35                            XDD我覺得她長的滿可愛 就是笑的有點假最後一張好酷    R       NaN  "
      ]
     },
     "execution_count": 10,
     "metadata": {},
     "output_type": "execute_result"
    }
   ],
   "source": [
    "print(\"Validation data: {count}\".format(count=len(valid)))\n",
    "valid.head()"
   ]
  },
  {
   "cell_type": "markdown",
   "metadata": {},
   "source": [
    "Convert datasets to word embeddings."
   ]
  },
  {
   "cell_type": "code",
   "execution_count": 11,
   "metadata": {},
   "outputs": [],
   "source": [
    "def get_data(messages):\n",
    "    jieba_cut = np.frompyfunc(lambda x: [ ph for ph in jieba.lcut(x.decode(\"utf-8\")) if ph != u\" \" ][:input_length], 1, 1)\n",
    "    word_embed = np.frompyfunc(lambda x: [ dict_index[ph] for ph in x ], 1, 1)\n",
    "    fill_to_length = np.frompyfunc(lambda x: x + [0] * (input_length - len(x)), 1, 1)\n",
    "    return np.stack(fill_to_length(word_embed(jieba_cut(messages.content.values))), axis=0)\n",
    "\n",
    "answers = { \"O\": [1., 0., 0., 0.], \"R\": [0., 1., 0., 0.], \"I\": [0., 0., 1., 0.], \"D\": [0., 0., 0., 1.] }\n",
    "\n",
    "def get_answer(messages):\n",
    "    return np.array([ answers[x] for x in messages.ORID ])\n",
    "\n",
    "train = (get_data(train), get_answer(train))\n",
    "valid = (get_data(valid), get_answer(valid))"
   ]
  },
  {
   "cell_type": "code",
   "execution_count": 12,
   "metadata": {},
   "outputs": [
    {
     "data": {
      "text/plain": [
       "(array([39403, 35102,  5442, 17112, 20923, 42769, 44736, 27524, 35102,\n",
       "        10186, 18667, 10186,  5442, 17112,     0,     0,     0,     0,\n",
       "            0,     0,     0,     0,     0,     0,     0,     0,     0,\n",
       "            0,     0,     0,     0,     0,     0,     0,     0,     0,\n",
       "            0,     0,     0,     0,     0,     0,     0,     0,     0,\n",
       "            0,     0,     0,     0,     0]),\n",
       " array([ 0.,  0.,  0.,  1.]),\n",
       " array([36935, 36621, 21149, 12023, 39845,  4414, 39925, 17642, 18025,\n",
       "         6176, 18552, 36065, 36659, 11449, 26840, 18025,  4414, 14437,\n",
       "        11592, 26247, 43183, 43183, 19029, 32546, 13995, 44738, 32546,\n",
       "        36362, 43962, 27354, 44736, 31155,  5909, 33185, 34499,  4414,\n",
       "        32548, 29445, 24924, 10395, 37848,  2970,  2757, 27354, 18432,\n",
       "        29616, 34147, 38528, 27241,  6885]),\n",
       " array([ 0.,  1.,  0.,  0.]))"
      ]
     },
     "execution_count": 12,
     "metadata": {},
     "output_type": "execute_result"
    }
   ],
   "source": [
    "train[0][10], train[1][10], valid[0][0], valid[1][0]"
   ]
  },
  {
   "cell_type": "markdown",
   "metadata": {},
   "source": [
    "# Single hidden layer model"
   ]
  },
  {
   "cell_type": "code",
   "execution_count": 13,
   "metadata": {},
   "outputs": [
    {
     "name": "stdout",
     "output_type": "stream",
     "text": [
      "____________________________________________________________________________________________________\n",
      "Layer (type)                     Output Shape          Param #     Connected to                     \n",
      "====================================================================================================\n",
      "embedding_1 (Embedding)          (None, 50, 300)       13486800    embedding_input_1[0][0]          \n",
      "____________________________________________________________________________________________________\n",
      "flatten_1 (Flatten)              (None, 15000)         0           embedding_1[0][0]                \n",
      "____________________________________________________________________________________________________\n",
      "dense_1 (Dense)                  (None, 512)           7680512     flatten_1[0][0]                  \n",
      "____________________________________________________________________________________________________\n",
      "dropout_1 (Dropout)              (None, 512)           0           dense_1[0][0]                    \n",
      "____________________________________________________________________________________________________\n",
      "dense_2 (Dense)                  (None, 4)             2052        dropout_1[0][0]                  \n",
      "====================================================================================================\n",
      "Total params: 21,169,364\n",
      "Trainable params: 21,169,364\n",
      "Non-trainable params: 0\n",
      "____________________________________________________________________________________________________\n"
     ]
    }
   ],
   "source": [
    "def linear_model():\n",
    "    model = Sequential()\n",
    "    model.add(create_embeddings(dictionary, input_length))\n",
    "    model.add(Flatten())\n",
    "    model.add(Dense(512, activation=\"relu\"))\n",
    "    model.add(Dropout(0.6))\n",
    "    model.add(Dense(4, activation=\"softmax\"))\n",
    "    return model\n",
    "\n",
    "linear = linear_model()\n",
    "linear.summary()"
   ]
  },
  {
   "cell_type": "code",
   "execution_count": 14,
   "metadata": {},
   "outputs": [],
   "source": [
    "linear.compile(\"adam\", loss=\"categorical_crossentropy\", metrics=[\"accuracy\"])"
   ]
  },
  {
   "cell_type": "code",
   "execution_count": 15,
   "metadata": {},
   "outputs": [
    {
     "name": "stdout",
     "output_type": "stream",
     "text": [
      "Train on 57 samples, validate on 6 samples\n",
      "Epoch 1/1\n",
      "57/57 [==============================] - 1s - loss: 1.6345 - acc: 0.2632 - val_loss: 15.7565 - val_acc: 0.0000e+00\n"
     ]
    }
   ],
   "source": [
    "def train_linear(lr=None, epoch=1):\n",
    "    if lr is not None:\n",
    "        linear.optimizer.lr = lr\n",
    "    linear.fit(train[0], train[1], nb_epoch=epoch, validation_data=valid, batch_size=batch_size)\n",
    "    \n",
    "train_linear()"
   ]
  },
  {
   "cell_type": "code",
   "execution_count": 16,
   "metadata": {},
   "outputs": [
    {
     "name": "stdout",
     "output_type": "stream",
     "text": [
      "Train on 57 samples, validate on 6 samples\n",
      "Epoch 1/2\n",
      "57/57 [==============================] - 0s - loss: 9.8411 - acc: 0.3509 - val_loss: 8.0607 - val_acc: 0.5000\n",
      "Epoch 2/2\n",
      "57/57 [==============================] - 0s - loss: 7.5829 - acc: 0.3509 - val_loss: 12.5091 - val_acc: 0.0000e+00\n",
      "Train on 57 samples, validate on 6 samples\n",
      "Epoch 1/4\n",
      "57/57 [==============================] - 0s - loss: 7.2314 - acc: 0.4386 - val_loss: 11.1115 - val_acc: 0.0000e+00\n",
      "Epoch 2/4\n",
      "57/57 [==============================] - 0s - loss: 7.2698 - acc: 0.3684 - val_loss: 8.0739 - val_acc: 0.5000\n",
      "Epoch 3/4\n",
      "57/57 [==============================] - 0s - loss: 6.6705 - acc: 0.4737 - val_loss: 8.0972 - val_acc: 0.5000\n",
      "Epoch 4/4\n",
      "57/57 [==============================] - 0s - loss: 7.8327 - acc: 0.3509 - val_loss: 10.8769 - val_acc: 0.1667\n",
      "Train on 57 samples, validate on 6 samples\n",
      "Epoch 1/4\n",
      "57/57 [==============================] - 0s - loss: 7.0394 - acc: 0.4737 - val_loss: 12.9003 - val_acc: 0.0000e+00\n",
      "Epoch 2/4\n",
      "57/57 [==============================] - 0s - loss: 7.0527 - acc: 0.4737 - val_loss: 13.3218 - val_acc: 0.0000e+00\n",
      "Epoch 3/4\n",
      "57/57 [==============================] - 0s - loss: 6.6445 - acc: 0.4737 - val_loss: 11.7134 - val_acc: 0.1667\n",
      "Epoch 4/4\n",
      "57/57 [==============================] - 0s - loss: 6.2765 - acc: 0.5439 - val_loss: 9.1516 - val_acc: 0.1667\n"
     ]
    }
   ],
   "source": [
    "train_linear(lr=0.1, epoch=2)\n",
    "train_linear(lr=0.01, epoch=4)\n",
    "train_linear(lr=0.001, epoch=4)"
   ]
  },
  {
   "cell_type": "markdown",
   "metadata": {},
   "source": [
    "# Evaluation"
   ]
  },
  {
   "cell_type": "code",
   "execution_count": 17,
   "metadata": {},
   "outputs": [],
   "source": [
    "model = linear"
   ]
  },
  {
   "cell_type": "code",
   "execution_count": 18,
   "metadata": {},
   "outputs": [],
   "source": [
    "unlabeled = unlabeled_only(all_messages)\n",
    "test_data = get_data(unlabeled)"
   ]
  },
  {
   "cell_type": "code",
   "execution_count": 19,
   "metadata": {},
   "outputs": [],
   "source": [
    "pred = model.predict(test_data, batch_size=batch_size)"
   ]
  },
  {
   "cell_type": "code",
   "execution_count": 20,
   "metadata": {},
   "outputs": [
    {
     "data": {
      "text/html": [
       "<div>\n",
       "<style scoped>\n",
       "    .dataframe tbody tr th:only-of-type {\n",
       "        vertical-align: middle;\n",
       "    }\n",
       "\n",
       "    .dataframe tbody tr th {\n",
       "        vertical-align: top;\n",
       "    }\n",
       "\n",
       "    .dataframe thead th {\n",
       "        text-align: right;\n",
       "    }\n",
       "</style>\n",
       "<table border=\"1\" class=\"dataframe\">\n",
       "  <thead>\n",
       "    <tr style=\"text-align: right;\">\n",
       "      <th></th>\n",
       "      <th>createDate</th>\n",
       "      <th>authorName</th>\n",
       "      <th>content</th>\n",
       "      <th>ORID</th>\n",
       "      <th>comments</th>\n",
       "    </tr>\n",
       "    <tr>\n",
       "      <th>id</th>\n",
       "      <th></th>\n",
       "      <th></th>\n",
       "      <th></th>\n",
       "      <th></th>\n",
       "      <th></th>\n",
       "    </tr>\n",
       "  </thead>\n",
       "  <tbody>\n",
       "    <tr>\n",
       "      <th>14138</th>\n",
       "      <td>2015-08-03 8:12:21</td>\n",
       "      <td>小K</td>\n",
       "      <td>那麼亞洲國家的現況呢？以新加坡或日本這兩個已開發的國家來說，是否有進行相關政策？</td>\n",
       "      <td>NaN</td>\n",
       "      <td>NaN</td>\n",
       "    </tr>\n",
       "    <tr>\n",
       "      <th>14110</th>\n",
       "      <td>2015-08-04 2:41:32</td>\n",
       "      <td>Oliver Lin</td>\n",
       "      <td>你搞錯了，不論性向有錢人是最不受制度限制的一群人如果你擔心這點，請採用共產制度根本上讓大家均貧就好</td>\n",
       "      <td>NaN</td>\n",
       "      <td>NaN</td>\n",
       "    </tr>\n",
       "    <tr>\n",
       "      <th>14103</th>\n",
       "      <td>2015-08-04 3:43:13</td>\n",
       "      <td>in.j li</td>\n",
       "      <td>你(妳)知道性取向是天生的,那試問, 如果自然法則是同性交配才能繁殖下一代, 那你(妳)可以...</td>\n",
       "      <td>NaN</td>\n",
       "      <td>NaN</td>\n",
       "    </tr>\n",
       "    <tr>\n",
       "      <th>14097</th>\n",
       "      <td>2015-08-04 4:29:26</td>\n",
       "      <td>black756133</td>\n",
       "      <td>無神論者無法相信任何沒有存在證據的神說的話，跟神溝通也只能透過古代人編寫的各種版本同人作品自...</td>\n",
       "      <td>NaN</td>\n",
       "      <td>NaN</td>\n",
       "    </tr>\n",
       "    <tr>\n",
       "      <th>14096</th>\n",
       "      <td>2015-08-04 4:33:21</td>\n",
       "      <td>RED</td>\n",
       "      <td>冰山一角http://news.ltn.com.tw/news/wo...</td>\n",
       "      <td>NaN</td>\n",
       "      <td>NaN</td>\n",
       "    </tr>\n",
       "    <tr>\n",
       "      <th>14088</th>\n",
       "      <td>2015-08-04 5:21:16</td>\n",
       "      <td>RED</td>\n",
       "      <td>網路很多新聞，平時你不看的那種。https://chinesemanif.wordpress...</td>\n",
       "      <td>NaN</td>\n",
       "      <td>NaN</td>\n",
       "    </tr>\n",
       "    <tr>\n",
       "      <th>14086</th>\n",
       "      <td>2015-08-04 5:22:52</td>\n",
       "      <td>炎暴龍</td>\n",
       "      <td>不支持不適用於異性戀的伴侶法！此議題的命題方式已嚴重歧視各性向的族群我支持可適用於全民的伴侶...</td>\n",
       "      <td>NaN</td>\n",
       "      <td>NaN</td>\n",
       "    </tr>\n",
       "    <tr>\n",
       "      <th>14085</th>\n",
       "      <td>2015-08-04 5:27:30</td>\n",
       "      <td>I-Ling Yeh</td>\n",
       "      <td>婚姻和伴侶關係應是獨立兩種關係，兩者都不應因為對象的性別受限。認可同性婚姻應直接在民法明文說...</td>\n",
       "      <td>NaN</td>\n",
       "      <td>NaN</td>\n",
       "    </tr>\n",
       "    <tr>\n",
       "      <th>14083</th>\n",
       "      <td>2015-08-04 5:33:41</td>\n",
       "      <td>Jun-Yuan Guo</td>\n",
       "      <td>「隔離而平等不是真平等」我支持修改民法，還給同志族群與異性戀者相同的婚姻權和親權；並新增相關...</td>\n",
       "      <td>NaN</td>\n",
       "      <td>NaN</td>\n",
       "    </tr>\n",
       "    <tr>\n",
       "      <th>14081</th>\n",
       "      <td>2015-08-04 5:51:28</td>\n",
       "      <td>Grace Guan</td>\n",
       "      <td>如果個人權力可以凌駕於國家整體考量之上，社會豈不亂乎？跟紅衛兵時代所行有何差別？革命烈士在天...</td>\n",
       "      <td>NaN</td>\n",
       "      <td>NaN</td>\n",
       "    </tr>\n",
       "  </tbody>\n",
       "</table>\n",
       "</div>"
      ],
      "text/plain": [
       "               createDate    authorName  \\\n",
       "id                                        \n",
       "14138  2015-08-03 8:12:21            小K   \n",
       "14110  2015-08-04 2:41:32    Oliver Lin   \n",
       "14103  2015-08-04 3:43:13       in.j li   \n",
       "14097  2015-08-04 4:29:26   black756133   \n",
       "14096  2015-08-04 4:33:21           RED   \n",
       "14088  2015-08-04 5:21:16           RED   \n",
       "14086  2015-08-04 5:22:52           炎暴龍   \n",
       "14085  2015-08-04 5:27:30    I-Ling Yeh   \n",
       "14083  2015-08-04 5:33:41  Jun-Yuan Guo   \n",
       "14081  2015-08-04 5:51:28    Grace Guan   \n",
       "\n",
       "                                                 content ORID  comments  \n",
       "id                                                                       \n",
       "14138           那麼亞洲國家的現況呢？以新加坡或日本這兩個已開發的國家來說，是否有進行相關政策？  NaN       NaN  \n",
       "14110  你搞錯了，不論性向有錢人是最不受制度限制的一群人如果你擔心這點，請採用共產制度根本上讓大家均貧就好  NaN       NaN  \n",
       "14103  你(妳)知道性取向是天生的,那試問, 如果自然法則是同性交配才能繁殖下一代, 那你(妳)可以...  NaN       NaN  \n",
       "14097  無神論者無法相信任何沒有存在證據的神說的話，跟神溝通也只能透過古代人編寫的各種版本同人作品自...  NaN       NaN  \n",
       "14096              冰山一角http://news.ltn.com.tw/news/wo...  NaN       NaN  \n",
       "14088  網路很多新聞，平時你不看的那種。https://chinesemanif.wordpress...  NaN       NaN  \n",
       "14086  不支持不適用於異性戀的伴侶法！此議題的命題方式已嚴重歧視各性向的族群我支持可適用於全民的伴侶...  NaN       NaN  \n",
       "14085  婚姻和伴侶關係應是獨立兩種關係，兩者都不應因為對象的性別受限。認可同性婚姻應直接在民法明文說...  NaN       NaN  \n",
       "14083  「隔離而平等不是真平等」我支持修改民法，還給同志族群與異性戀者相同的婚姻權和親權；並新增相關...  NaN       NaN  \n",
       "14081  如果個人權力可以凌駕於國家整體考量之上，社會豈不亂乎？跟紅衛兵時代所行有何差別？革命烈士在天...  NaN       NaN  "
      ]
     },
     "execution_count": 20,
     "metadata": {},
     "output_type": "execute_result"
    }
   ],
   "source": [
    "unlabeled.head(10)"
   ]
  },
  {
   "cell_type": "code",
   "execution_count": 21,
   "metadata": {},
   "outputs": [
    {
     "data": {
      "text/plain": [
       "array([[  2.33472145e-38,   3.96522671e-01,   6.03477359e-01,\n",
       "          4.94881489e-37],\n",
       "       [  0.00000000e+00,   9.99618769e-01,   3.81167250e-04,\n",
       "          0.00000000e+00],\n",
       "       [  1.31799101e-32,   9.99994159e-01,   5.82005259e-06,\n",
       "          3.91706221e-32],\n",
       "       [  3.62049274e-31,   9.99779761e-01,   2.20267350e-04,\n",
       "          3.46005305e-31],\n",
       "       [  9.84984932e-37,   9.08753090e-03,   9.90912437e-01,\n",
       "          7.28294228e-36],\n",
       "       [  8.88519972e-38,   1.80057094e-01,   8.19942892e-01,\n",
       "          9.98887517e-37],\n",
       "       [  1.47125918e-36,   9.99647141e-01,   3.52818635e-04,\n",
       "          1.06983474e-35],\n",
       "       [  6.70091965e-32,   9.95061934e-01,   4.93810000e-03,\n",
       "          9.72486100e-31],\n",
       "       [  6.39575915e-35,   9.98556316e-01,   1.44370634e-03,\n",
       "          1.07126428e-33],\n",
       "       [  1.16256888e-29,   9.90411043e-01,   9.58895311e-03,\n",
       "          2.20837434e-29]], dtype=float32)"
      ]
     },
     "execution_count": 21,
     "metadata": {},
     "output_type": "execute_result"
    }
   ],
   "source": [
    "pred[:10]"
   ]
  },
  {
   "cell_type": "code",
   "execution_count": null,
   "metadata": {},
   "outputs": [],
   "source": []
  }
 ],
 "metadata": {
  "kernelspec": {
   "display_name": "Python 2",
   "language": "python",
   "name": "python2"
  },
  "language_info": {
   "codemirror_mode": {
    "name": "ipython",
    "version": 2
   },
   "file_extension": ".py",
   "mimetype": "text/x-python",
   "name": "python",
   "nbconvert_exporter": "python",
   "pygments_lexer": "ipython2",
   "version": "2.7.10"
  }
 },
 "nbformat": 4,
 "nbformat_minor": 2
}
