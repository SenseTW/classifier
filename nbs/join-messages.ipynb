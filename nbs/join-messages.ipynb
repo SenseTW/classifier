{
 "cells": [
  {
   "cell_type": "markdown",
   "metadata": {},
   "source": [
    "# Join 平台眾開講"
   ]
  },
  {
   "cell_type": "markdown",
   "metadata": {},
   "source": [
    "## Setup\n",
    "\n",
    "- [x] Read messages from CSV.\n",
    "- [x] Cut message content by Jieba.\n",
    "- [ ] Build embeddings using fastText word vectors pre-trained on Wikipedia corpus.\n",
    "- [ ] Build training and validation datasets."
   ]
  },
  {
   "cell_type": "code",
   "execution_count": 585,
   "metadata": {},
   "outputs": [],
   "source": [
    "path = \"data/join\"\n",
    "topic = \"立法方式保障\"\n",
    "# topic = \"同性伴侣法\"\n",
    "# topic = \"同性婚姻法\""
   ]
  },
  {
   "cell_type": "code",
   "execution_count": 678,
   "metadata": {},
   "outputs": [],
   "source": [
    "from __future__ import division, print_function\n",
    "import pandas as pd, numpy as np\n",
    "import jieba\n",
    "from keras.models import Sequential\n",
    "from keras.layers import Embedding, Dense, Flatten, Dropout\n",
    "import os, math"
   ]
  },
  {
   "cell_type": "markdown",
   "metadata": {},
   "source": [
    "Read in messages from CSV."
   ]
  },
  {
   "cell_type": "code",
   "execution_count": 648,
   "metadata": {},
   "outputs": [
    {
     "name": "stdout",
     "output_type": "stream",
     "text": [
      "Total messages: 10215\n",
      "Labeled messages: 58\n"
     ]
    },
    {
     "data": {
      "text/html": [
       "<div>\n",
       "<style scoped>\n",
       "    .dataframe tbody tr th:only-of-type {\n",
       "        vertical-align: middle;\n",
       "    }\n",
       "\n",
       "    .dataframe tbody tr th {\n",
       "        vertical-align: top;\n",
       "    }\n",
       "\n",
       "    .dataframe thead th {\n",
       "        text-align: right;\n",
       "    }\n",
       "</style>\n",
       "<table border=\"1\" class=\"dataframe\">\n",
       "  <thead>\n",
       "    <tr style=\"text-align: right;\">\n",
       "      <th></th>\n",
       "      <th>createDate</th>\n",
       "      <th>authorName</th>\n",
       "      <th>content</th>\n",
       "      <th>ORID</th>\n",
       "    </tr>\n",
       "    <tr>\n",
       "      <th>id</th>\n",
       "      <th></th>\n",
       "      <th></th>\n",
       "      <th></th>\n",
       "      <th></th>\n",
       "    </tr>\n",
       "  </thead>\n",
       "  <tbody>\n",
       "    <tr>\n",
       "      <th>6</th>\n",
       "      <td>2015-10-31 15:53:48</td>\n",
       "      <td>黃道明</td>\n",
       "      <td>在台灣已經有同志收養小孩了，你的資訊是多落伍～</td>\n",
       "      <td>O</td>\n",
       "    </tr>\n",
       "    <tr>\n",
       "      <th>9</th>\n",
       "      <td>2015-10-31 15:52:09</td>\n",
       "      <td>黃道明</td>\n",
       "      <td>真奇怪，明明是歐美一個個陸續通過同婚，你是眼睛瞎了嗎？</td>\n",
       "      <td>O</td>\n",
       "    </tr>\n",
       "    <tr>\n",
       "      <th>10</th>\n",
       "      <td>2015-10-31 15:51:24</td>\n",
       "      <td>高守謙</td>\n",
       "      <td>我來回答吧四處約砲 無固定性伴侶 就算是性解放的一種</td>\n",
       "      <td>I</td>\n",
       "    </tr>\n",
       "    <tr>\n",
       "      <th>14</th>\n",
       "      <td>2015-10-31 15:38:13</td>\n",
       "      <td>了了</td>\n",
       "      <td>援交 毒品 賭博 全部比同性戀禍害更深 那麼怕的話別生了地球很危險的</td>\n",
       "      <td>I</td>\n",
       "    </tr>\n",
       "    <tr>\n",
       "      <th>16</th>\n",
       "      <td>2015-10-31 15:34:41</td>\n",
       "      <td>路過的，呵呵。</td>\n",
       "      <td>同性戀領養現在是合法的喔，因為我們未婚都是單身者，現在單身者是可以領養小朋友的。</td>\n",
       "      <td>O</td>\n",
       "    </tr>\n",
       "  </tbody>\n",
       "</table>\n",
       "</div>"
      ],
      "text/plain": [
       "             createDate authorName                                   content  \\\n",
       "id                                                                             \n",
       "6   2015-10-31 15:53:48        黃道明                   在台灣已經有同志收養小孩了，你的資訊是多落伍～   \n",
       "9   2015-10-31 15:52:09        黃道明               真奇怪，明明是歐美一個個陸續通過同婚，你是眼睛瞎了嗎？   \n",
       "10  2015-10-31 15:51:24        高守謙                我來回答吧四處約砲 無固定性伴侶 就算是性解放的一種   \n",
       "14  2015-10-31 15:38:13         了了        援交 毒品 賭博 全部比同性戀禍害更深 那麼怕的話別生了地球很危險的   \n",
       "16  2015-10-31 15:34:41    路過的，呵呵。  同性戀領養現在是合法的喔，因為我們未婚都是單身者，現在單身者是可以領養小朋友的。   \n",
       "\n",
       "   ORID  \n",
       "id       \n",
       "6     O  \n",
       "9     O  \n",
       "10    I  \n",
       "14    I  \n",
       "16    O  "
      ]
     },
     "execution_count": 648,
     "metadata": {},
     "output_type": "execute_result"
    }
   ],
   "source": [
    "def get_messages_from_orig(topic):\n",
    "    messages = pd.read_csv(os.path.join(path, topic + \".csv\"), index_col=0)\n",
    "    mask = messages.astype('str').applymap(lambda x: len(x.decode('utf-8'))).content > 20\n",
    "    messages = messages[mask]\n",
    "    messages.to_csv(os.path.join(path, topic + \"-good.csv\"))\n",
    "    return messages\n",
    "\n",
    "def get_labeled_messages(topic):\n",
    "    return pd.read_csv(os.path.join(path, topic + \"-good.csv\"), index_col=0)\n",
    "\n",
    "def labeled_only(messages):\n",
    "    return messages[messages.ORID.notnull()]\n",
    "\n",
    "def unlabeled_only(messages):\n",
    "    return messages[messages.ORID.isnull()]\n",
    "    \n",
    "all_messages = get_messages_from_orig(topic) if not os.path.exists(os.path.join(path, topic + \"-good.csv\")) \\\n",
    "                                         else get_labeled_messages(topic)\n",
    "print(\"Total messages: {count}\".format(count=len(all_messages)))\n",
    "messages = labeled_only(all_messages)\n",
    "print(\"Labeled messages: {count}\".format(count=len(messages)))\n",
    "messages.head()"
   ]
  },
  {
   "cell_type": "markdown",
   "metadata": {},
   "source": [
    "Build dictionary of phrases and load word embeddings."
   ]
  },
  {
   "cell_type": "code",
   "execution_count": 588,
   "metadata": {},
   "outputs": [
    {
     "data": {
      "text/plain": [
       "(44956, 300)"
      ]
     },
     "execution_count": 588,
     "metadata": {},
     "output_type": "execute_result"
    }
   ],
   "source": [
    "def write_dictionary(messages):\n",
    "    contents = [ jieba.lcut(c) for c in messages.content ]\n",
    "    all_phrases = set([ ph for c in contents for ph in c ])\n",
    "    with open(os.path.join(path, \"dictionary.txt\"), \"w\") as fh:\n",
    "        for ph in all_phrases:\n",
    "            fh.write(ph.encode(\"utf-8\") + \"\\n\")\n",
    "            \n",
    "def read_dictionary():\n",
    "    dictionary = pd.read_csv(os.path.join(path, \"dictionary.vec\"), \n",
    "                       delim_whitespace=True, engine=\"python\", header=None, index_col=0)\n",
    "    return dictionary\n",
    "\n",
    "if not os.path.exists(\"dictionary.vec\"):\n",
    "    write_dictionary(all_messages)\n",
    "    !cd data/join; ../../../bin/fasttext print-word-vectors models/wiki.zh.bin < dictionary.txt > dictionary.vec\n",
    "dictionary = read_dictionary()\n",
    "dictionary.shape"
   ]
  },
  {
   "cell_type": "markdown",
   "metadata": {},
   "source": [
    "Build dictionary index to convert phrases into embedding vectors."
   ]
  },
  {
   "cell_type": "code",
   "execution_count": 601,
   "metadata": {},
   "outputs": [
    {
     "data": {
      "text/plain": [
       "(35096, 1      True\n",
       " 2      True\n",
       " 3      True\n",
       " 4      True\n",
       " 5      True\n",
       " 6      True\n",
       " 7      True\n",
       " 8      True\n",
       " 9      True\n",
       " 10     True\n",
       " 11     True\n",
       " 12     True\n",
       " 13     True\n",
       " 14     True\n",
       " 15     True\n",
       " 16     True\n",
       " 17     True\n",
       " 18     True\n",
       " 19     True\n",
       " 20     True\n",
       " 21     True\n",
       " 22     True\n",
       " 23     True\n",
       " 24     True\n",
       " 25     True\n",
       " 26     True\n",
       " 27     True\n",
       " 28     True\n",
       " 29     True\n",
       " 30     True\n",
       "        ... \n",
       " 271    True\n",
       " 272    True\n",
       " 273    True\n",
       " 274    True\n",
       " 275    True\n",
       " 276    True\n",
       " 277    True\n",
       " 278    True\n",
       " 279    True\n",
       " 280    True\n",
       " 281    True\n",
       " 282    True\n",
       " 283    True\n",
       " 284    True\n",
       " 285    True\n",
       " 286    True\n",
       " 287    True\n",
       " 288    True\n",
       " 289    True\n",
       " 290    True\n",
       " 291    True\n",
       " 292    True\n",
       " 293    True\n",
       " 294    True\n",
       " 295    True\n",
       " 296    True\n",
       " 297    True\n",
       " 298    True\n",
       " 299    True\n",
       " 300    True\n",
       " Name: 同性, Length: 300, dtype: bool)"
      ]
     },
     "execution_count": 601,
     "metadata": {},
     "output_type": "execute_result"
    }
   ],
   "source": [
    "dict_index = { ph.decode(\"utf-8\"): i for i, ph in enumerate(dictionary.index) }\n",
    "dict_index[u\"同性\"], dictionary.iloc[dict_index[u\"同性\"]] == dictionary.loc[\"同性\"]"
   ]
  },
  {
   "cell_type": "code",
   "execution_count": 591,
   "metadata": {},
   "outputs": [],
   "source": [
    "input_length = 50\n",
    "batch_size = 64"
   ]
  },
  {
   "cell_type": "code",
   "execution_count": 592,
   "metadata": {},
   "outputs": [],
   "source": [
    "def create_embeddings(dictionary, input_length=100):\n",
    "    phrases, latents = dictionary.shape\n",
    "    embedding = Embedding(phrases, latents, input_length=input_length, weights=[dictionary])\n",
    "    return embedding"
   ]
  },
  {
   "cell_type": "markdown",
   "metadata": {},
   "source": [
    "Separate the messages into training and validation datasets."
   ]
  },
  {
   "cell_type": "code",
   "execution_count": 665,
   "metadata": {},
   "outputs": [],
   "source": [
    "select = np.random.random(len(messages)) < 0.9\n",
    "train = messages[select]\n",
    "valid = messages[~select]"
   ]
  },
  {
   "cell_type": "code",
   "execution_count": 666,
   "metadata": {},
   "outputs": [
    {
     "name": "stdout",
     "output_type": "stream",
     "text": [
      "Training data: 51\n"
     ]
    },
    {
     "data": {
      "text/html": [
       "<div>\n",
       "<style scoped>\n",
       "    .dataframe tbody tr th:only-of-type {\n",
       "        vertical-align: middle;\n",
       "    }\n",
       "\n",
       "    .dataframe tbody tr th {\n",
       "        vertical-align: top;\n",
       "    }\n",
       "\n",
       "    .dataframe thead th {\n",
       "        text-align: right;\n",
       "    }\n",
       "</style>\n",
       "<table border=\"1\" class=\"dataframe\">\n",
       "  <thead>\n",
       "    <tr style=\"text-align: right;\">\n",
       "      <th></th>\n",
       "      <th>createDate</th>\n",
       "      <th>authorName</th>\n",
       "      <th>content</th>\n",
       "      <th>ORID</th>\n",
       "    </tr>\n",
       "    <tr>\n",
       "      <th>id</th>\n",
       "      <th></th>\n",
       "      <th></th>\n",
       "      <th></th>\n",
       "      <th></th>\n",
       "    </tr>\n",
       "  </thead>\n",
       "  <tbody>\n",
       "    <tr>\n",
       "      <th>6</th>\n",
       "      <td>2015-10-31 15:53:48</td>\n",
       "      <td>黃道明</td>\n",
       "      <td>在台灣已經有同志收養小孩了，你的資訊是多落伍～</td>\n",
       "      <td>O</td>\n",
       "    </tr>\n",
       "    <tr>\n",
       "      <th>9</th>\n",
       "      <td>2015-10-31 15:52:09</td>\n",
       "      <td>黃道明</td>\n",
       "      <td>真奇怪，明明是歐美一個個陸續通過同婚，你是眼睛瞎了嗎？</td>\n",
       "      <td>O</td>\n",
       "    </tr>\n",
       "    <tr>\n",
       "      <th>10</th>\n",
       "      <td>2015-10-31 15:51:24</td>\n",
       "      <td>高守謙</td>\n",
       "      <td>我來回答吧四處約砲 無固定性伴侶 就算是性解放的一種</td>\n",
       "      <td>I</td>\n",
       "    </tr>\n",
       "    <tr>\n",
       "      <th>14</th>\n",
       "      <td>2015-10-31 15:38:13</td>\n",
       "      <td>了了</td>\n",
       "      <td>援交 毒品 賭博 全部比同性戀禍害更深 那麼怕的話別生了地球很危險的</td>\n",
       "      <td>I</td>\n",
       "    </tr>\n",
       "    <tr>\n",
       "      <th>16</th>\n",
       "      <td>2015-10-31 15:34:41</td>\n",
       "      <td>路過的，呵呵。</td>\n",
       "      <td>同性戀領養現在是合法的喔，因為我們未婚都是單身者，現在單身者是可以領養小朋友的。</td>\n",
       "      <td>O</td>\n",
       "    </tr>\n",
       "  </tbody>\n",
       "</table>\n",
       "</div>"
      ],
      "text/plain": [
       "             createDate authorName                                   content  \\\n",
       "id                                                                             \n",
       "6   2015-10-31 15:53:48        黃道明                   在台灣已經有同志收養小孩了，你的資訊是多落伍～   \n",
       "9   2015-10-31 15:52:09        黃道明               真奇怪，明明是歐美一個個陸續通過同婚，你是眼睛瞎了嗎？   \n",
       "10  2015-10-31 15:51:24        高守謙                我來回答吧四處約砲 無固定性伴侶 就算是性解放的一種   \n",
       "14  2015-10-31 15:38:13         了了        援交 毒品 賭博 全部比同性戀禍害更深 那麼怕的話別生了地球很危險的   \n",
       "16  2015-10-31 15:34:41    路過的，呵呵。  同性戀領養現在是合法的喔，因為我們未婚都是單身者，現在單身者是可以領養小朋友的。   \n",
       "\n",
       "   ORID  \n",
       "id       \n",
       "6     O  \n",
       "9     O  \n",
       "10    I  \n",
       "14    I  \n",
       "16    O  "
      ]
     },
     "execution_count": 666,
     "metadata": {},
     "output_type": "execute_result"
    }
   ],
   "source": [
    "print(\"Training data: {count}\".format(count=len(train)))\n",
    "train.head()"
   ]
  },
  {
   "cell_type": "code",
   "execution_count": 667,
   "metadata": {},
   "outputs": [
    {
     "name": "stdout",
     "output_type": "stream",
     "text": [
      "Validation data: 7\n"
     ]
    },
    {
     "data": {
      "text/html": [
       "<div>\n",
       "<style scoped>\n",
       "    .dataframe tbody tr th:only-of-type {\n",
       "        vertical-align: middle;\n",
       "    }\n",
       "\n",
       "    .dataframe tbody tr th {\n",
       "        vertical-align: top;\n",
       "    }\n",
       "\n",
       "    .dataframe thead th {\n",
       "        text-align: right;\n",
       "    }\n",
       "</style>\n",
       "<table border=\"1\" class=\"dataframe\">\n",
       "  <thead>\n",
       "    <tr style=\"text-align: right;\">\n",
       "      <th></th>\n",
       "      <th>createDate</th>\n",
       "      <th>authorName</th>\n",
       "      <th>content</th>\n",
       "      <th>ORID</th>\n",
       "    </tr>\n",
       "    <tr>\n",
       "      <th>id</th>\n",
       "      <th></th>\n",
       "      <th></th>\n",
       "      <th></th>\n",
       "      <th></th>\n",
       "    </tr>\n",
       "  </thead>\n",
       "  <tbody>\n",
       "    <tr>\n",
       "      <th>30</th>\n",
       "      <td>2015-10-31 14:36:05</td>\n",
       "      <td>模糊</td>\n",
       "      <td>我只是想有些人知道,一夫一妻的制度不見得比同性婚姻好,台灣像我這種家庭一堆,有幾個人真的有去...</td>\n",
       "      <td>R</td>\n",
       "    </tr>\n",
       "    <tr>\n",
       "      <th>59</th>\n",
       "      <td>2015-10-31 13:53:07</td>\n",
       "      <td>Ato Otto</td>\n",
       "      <td>最早性解放性自主是女權運動帶領的好嗎？這麼偉大的credit你就直接安給同志運動！妳一定是同...</td>\n",
       "      <td>O</td>\n",
       "    </tr>\n",
       "    <tr>\n",
       "      <th>14091</th>\n",
       "      <td>2015-08-04 4:56:35</td>\n",
       "      <td>杜里昂</td>\n",
       "      <td>同性戀要什麼權利還要你們\"給\"，你們是哪根蔥啊？人權是最基本的保障好嗎？但至少是第一步…… ...</td>\n",
       "      <td>R</td>\n",
       "    </tr>\n",
       "    <tr>\n",
       "      <th>14108</th>\n",
       "      <td>2015-08-04 3:21:45</td>\n",
       "      <td>PIX</td>\n",
       "      <td>不必講什麼大道理，但是自然法則中人類的繁衍需要異性！這一代的人們享受上一代祖先們所創造的一切...</td>\n",
       "      <td>I</td>\n",
       "    </tr>\n",
       "    <tr>\n",
       "      <th>14113</th>\n",
       "      <td>2015-08-04 2:20:23</td>\n",
       "      <td>Lih-woei Chen</td>\n",
       "      <td>我不喜歡這個標題，為什麼人權需要由其他人來評論是否可以給予...這應該是政府要保障的基本需求吧。</td>\n",
       "      <td>R</td>\n",
       "    </tr>\n",
       "  </tbody>\n",
       "</table>\n",
       "</div>"
      ],
      "text/plain": [
       "                createDate     authorName  \\\n",
       "id                                          \n",
       "30     2015-10-31 14:36:05             模糊   \n",
       "59     2015-10-31 13:53:07       Ato Otto   \n",
       "14091   2015-08-04 4:56:35            杜里昂   \n",
       "14108   2015-08-04 3:21:45            PIX   \n",
       "14113   2015-08-04 2:20:23  Lih-woei Chen   \n",
       "\n",
       "                                                 content ORID  \n",
       "id                                                             \n",
       "30     我只是想有些人知道,一夫一妻的制度不見得比同性婚姻好,台灣像我這種家庭一堆,有幾個人真的有去...    R  \n",
       "59     最早性解放性自主是女權運動帶領的好嗎？這麼偉大的credit你就直接安給同志運動！妳一定是同...    O  \n",
       "14091  同性戀要什麼權利還要你們\"給\"，你們是哪根蔥啊？人權是最基本的保障好嗎？但至少是第一步…… ...    R  \n",
       "14108  不必講什麼大道理，但是自然法則中人類的繁衍需要異性！這一代的人們享受上一代祖先們所創造的一切...    I  \n",
       "14113   我不喜歡這個標題，為什麼人權需要由其他人來評論是否可以給予...這應該是政府要保障的基本需求吧。    R  "
      ]
     },
     "execution_count": 667,
     "metadata": {},
     "output_type": "execute_result"
    }
   ],
   "source": [
    "print(\"Validation data: {count}\".format(count=len(valid)))\n",
    "valid.head()"
   ]
  },
  {
   "cell_type": "markdown",
   "metadata": {},
   "source": [
    "Convert datasets to word embeddings."
   ]
  },
  {
   "cell_type": "code",
   "execution_count": 668,
   "metadata": {},
   "outputs": [],
   "source": [
    "def get_data(messages):\n",
    "    jieba_cut = np.frompyfunc(lambda x: [ ph for ph in jieba.lcut(x.decode(\"utf-8\")) if ph != u\" \" ][:input_length], 1, 1)\n",
    "    word_embed = np.frompyfunc(lambda x: [ dict_index[ph] for ph in x ], 1, 1)\n",
    "    fill_to_length = np.frompyfunc(lambda x: x + [0] * (input_length - len(x)), 1, 1)\n",
    "    return np.stack(fill_to_length(word_embed(jieba_cut(messages.content.values))), axis=0)\n",
    "\n",
    "answers = { \"O\": [1., 0., 0., 0.], \"R\": [0., 1., 0., 0.], \"I\": [0., 0., 1., 0.], \"D\": [0., 0., 0., 1.] }\n",
    "\n",
    "def get_answer(messages):\n",
    "    return np.array([ answers[x] for x in messages.ORID ])\n",
    "\n",
    "train = (get_data(train), get_answer(train))\n",
    "valid = (get_data(valid), get_answer(valid))"
   ]
  },
  {
   "cell_type": "code",
   "execution_count": 669,
   "metadata": {},
   "outputs": [
    {
     "data": {
      "text/plain": [
       "(array([17293, 22897, 38608,  3570, 17341,  6481, 20914, 40590,  2743,\n",
       "         4100,  6481, 28378, 19941, 10141, 10141, 10141, 10141, 10141,\n",
       "         3570, 19941, 17363, 25141, 32542,  3069, 30973,  4387,  6481,\n",
       "        20303,   679, 10141,     0,     0,     0,     0,     0,     0,\n",
       "            0,     0,     0,     0,     0,     0,     0,     0,     0,\n",
       "            0,     0,     0,     0,     0]),\n",
       " array([ 0.,  1.,  0.,  0.]),\n",
       " array([ 8155, 24372, 15045, 25237, 24918, 15686, 39736, 27440,  4387,\n",
       "        42074,  5503, 25216,  7705, 35096,  5416, 11512, 39736, 11227,\n",
       "         6374,  8155,  3159, 42857, 27042, 39736, 17636, 13156, 24918,\n",
       "         3230, 17636, 37720, 32255, 28114, 43195,  8155,  4387, 23531,\n",
       "        39736, 44663, 34642,  9379, 39736, 19941, 42166,  4387,  5416,\n",
       "         2960, 34183,  7799, 39736, 18009]),\n",
       " array([ 0.,  1.,  0.,  0.]))"
      ]
     },
     "execution_count": 669,
     "metadata": {},
     "output_type": "execute_result"
    }
   ],
   "source": [
    "train[0][10], train[1][10], valid[0][0], valid[1][0]"
   ]
  },
  {
   "cell_type": "markdown",
   "metadata": {},
   "source": [
    "# Single hidden layer model"
   ]
  },
  {
   "cell_type": "code",
   "execution_count": 687,
   "metadata": {},
   "outputs": [
    {
     "name": "stdout",
     "output_type": "stream",
     "text": [
      "____________________________________________________________________________________________________\n",
      "Layer (type)                     Output Shape          Param #     Connected to                     \n",
      "====================================================================================================\n",
      "embedding_20 (Embedding)         (None, 50, 300)       13486800    embedding_input_20[0][0]         \n",
      "____________________________________________________________________________________________________\n",
      "flatten_7 (Flatten)              (None, 15000)         0           embedding_20[0][0]               \n",
      "____________________________________________________________________________________________________\n",
      "dense_32 (Dense)                 (None, 512)           7680512     flatten_7[0][0]                  \n",
      "____________________________________________________________________________________________________\n",
      "dropout_3 (Dropout)              (None, 512)           0           dense_32[0][0]                   \n",
      "____________________________________________________________________________________________________\n",
      "dense_33 (Dense)                 (None, 4)             2052        dropout_3[0][0]                  \n",
      "====================================================================================================\n",
      "Total params: 21,169,364\n",
      "Trainable params: 21,169,364\n",
      "Non-trainable params: 0\n",
      "____________________________________________________________________________________________________\n"
     ]
    }
   ],
   "source": [
    "def linear_model():\n",
    "    model = Sequential()\n",
    "    model.add(create_embeddings(dictionary, input_length))\n",
    "    model.add(Flatten())\n",
    "    model.add(Dense(512, activation=\"relu\"))\n",
    "    model.add(Dropout(0.6))\n",
    "    model.add(Dense(4, activation=\"softmax\"))\n",
    "    return model\n",
    "\n",
    "linear = linear_model()\n",
    "linear.summary()"
   ]
  },
  {
   "cell_type": "code",
   "execution_count": 688,
   "metadata": {},
   "outputs": [],
   "source": [
    "linear.compile(\"adam\", loss=\"categorical_crossentropy\", metrics=[\"accuracy\"])"
   ]
  },
  {
   "cell_type": "code",
   "execution_count": 689,
   "metadata": {},
   "outputs": [
    {
     "name": "stdout",
     "output_type": "stream",
     "text": [
      "Train on 51 samples, validate on 7 samples\n",
      "Epoch 1/1\n",
      "51/51 [==============================] - 0s - loss: 1.5259 - acc: 0.3725 - val_loss: 6.4331 - val_acc: 0.1429\n"
     ]
    }
   ],
   "source": [
    "def train_linear(lr=None, epoch=1):\n",
    "    if lr is not None:\n",
    "        linear.optimizer.lr = lr\n",
    "    linear.fit(train[0], train[1], nb_epoch=epoch, validation_data=valid, batch_size=batch_size)\n",
    "    \n",
    "train_linear()"
   ]
  },
  {
   "cell_type": "code",
   "execution_count": 690,
   "metadata": {},
   "outputs": [
    {
     "name": "stdout",
     "output_type": "stream",
     "text": [
      "Train on 51 samples, validate on 7 samples\n",
      "Epoch 1/2\n",
      "51/51 [==============================] - 0s - loss: 6.6901 - acc: 0.2941 - val_loss: 6.9078 - val_acc: 0.5714\n",
      "Epoch 2/2\n",
      "51/51 [==============================] - 0s - loss: 10.8215 - acc: 0.2941 - val_loss: 6.7060 - val_acc: 0.5714\n",
      "Train on 51 samples, validate on 7 samples\n",
      "Epoch 1/4\n",
      "51/51 [==============================] - 0s - loss: 10.0703 - acc: 0.3137 - val_loss: 4.2370 - val_acc: 0.4286\n",
      "Epoch 2/4\n",
      "51/51 [==============================] - 0s - loss: 5.7579 - acc: 0.4510 - val_loss: 13.2073 - val_acc: 0.1429\n",
      "Epoch 3/4\n",
      "51/51 [==============================] - 0s - loss: 7.8525 - acc: 0.3922 - val_loss: 13.7015 - val_acc: 0.1429\n",
      "Epoch 4/4\n",
      "51/51 [==============================] - 0s - loss: 7.2218 - acc: 0.3922 - val_loss: 9.8486 - val_acc: 0.1429\n",
      "Train on 51 samples, validate on 7 samples\n",
      "Epoch 1/4\n",
      "51/51 [==============================] - 0s - loss: 5.0515 - acc: 0.5098 - val_loss: 6.2528 - val_acc: 0.0000e+00\n",
      "Epoch 2/4\n",
      "51/51 [==============================] - 0s - loss: 4.7742 - acc: 0.5098 - val_loss: 6.6395 - val_acc: 0.1429\n",
      "Epoch 3/4\n",
      "51/51 [==============================] - 0s - loss: 5.6341 - acc: 0.4902 - val_loss: 5.4354 - val_acc: 0.5714\n",
      "Epoch 4/4\n",
      "51/51 [==============================] - 0s - loss: 6.1556 - acc: 0.4902 - val_loss: 4.8679 - val_acc: 0.5714\n"
     ]
    }
   ],
   "source": [
    "train_linear(lr=0.1, epoch=2)\n",
    "train_linear(lr=0.01, epoch=4)\n",
    "train_linear(lr=0.001, epoch=4)"
   ]
  },
  {
   "cell_type": "markdown",
   "metadata": {},
   "source": [
    "# Evaluation"
   ]
  },
  {
   "cell_type": "code",
   "execution_count": 674,
   "metadata": {},
   "outputs": [],
   "source": [
    "model = linear"
   ]
  },
  {
   "cell_type": "code",
   "execution_count": 694,
   "metadata": {},
   "outputs": [],
   "source": [
    "unlabeled = unlabeled_only(all_messages)\n",
    "test_data = get_data(unlabeled)"
   ]
  },
  {
   "cell_type": "code",
   "execution_count": 676,
   "metadata": {},
   "outputs": [],
   "source": [
    "pred = model.predict(test_data, batch_size=batch_size)"
   ]
  },
  {
   "cell_type": "code",
   "execution_count": 695,
   "metadata": {},
   "outputs": [
    {
     "data": {
      "text/html": [
       "<div>\n",
       "<style scoped>\n",
       "    .dataframe tbody tr th:only-of-type {\n",
       "        vertical-align: middle;\n",
       "    }\n",
       "\n",
       "    .dataframe tbody tr th {\n",
       "        vertical-align: top;\n",
       "    }\n",
       "\n",
       "    .dataframe thead th {\n",
       "        text-align: right;\n",
       "    }\n",
       "</style>\n",
       "<table border=\"1\" class=\"dataframe\">\n",
       "  <thead>\n",
       "    <tr style=\"text-align: right;\">\n",
       "      <th></th>\n",
       "      <th>createDate</th>\n",
       "      <th>authorName</th>\n",
       "      <th>content</th>\n",
       "      <th>ORID</th>\n",
       "    </tr>\n",
       "    <tr>\n",
       "      <th>id</th>\n",
       "      <th></th>\n",
       "      <th></th>\n",
       "      <th></th>\n",
       "      <th></th>\n",
       "    </tr>\n",
       "  </thead>\n",
       "  <tbody>\n",
       "    <tr>\n",
       "      <th>2</th>\n",
       "      <td>2015-10-31 15:55:50</td>\n",
       "      <td>大少爺</td>\n",
       "      <td>離婚率高低與否沒辦法當作拒絕同婚的理由同性戀離婚率肯定比異性戀低，因為對象非常難找，一但找到...</td>\n",
       "      <td>NaN</td>\n",
       "    </tr>\n",
       "    <tr>\n",
       "      <th>4</th>\n",
       "      <td>2015-10-31 15:55:20</td>\n",
       "      <td>Jasi</td>\n",
       "      <td>異性戀比同性戀更多，強姦案就已經特別多了 也是四處約砲 無固定性伴侶 就算是性解放的一種</td>\n",
       "      <td>NaN</td>\n",
       "    </tr>\n",
       "    <tr>\n",
       "      <th>5</th>\n",
       "      <td>2015-10-31 15:54:52</td>\n",
       "      <td>MT Lin</td>\n",
       "      <td>笑死人，你這樣的想法就不自私嗎？你又有多少數據可以證明，對下一代、或是其他人的影響是什麼？如...</td>\n",
       "      <td>NaN</td>\n",
       "    </tr>\n",
       "    <tr>\n",
       "      <th>11</th>\n",
       "      <td>2015-10-31 15:51:17</td>\n",
       "      <td>宮紅雪</td>\n",
       "      <td>異性戀有資格離婚為甚麼同性戀沒資格離婚?你還真是可笑</td>\n",
       "      <td>NaN</td>\n",
       "    </tr>\n",
       "    <tr>\n",
       "      <th>12</th>\n",
       "      <td>2015-10-31 15:49:02</td>\n",
       "      <td>就像異性婚姻離婚的人，換了對象結婚，還是以</td>\n",
       "      <td>就像異性婚姻離婚的人，換了對象結婚，還是以離婚收場的人比比皆是!! .只是因為目前還沒有現成...</td>\n",
       "      <td>NaN</td>\n",
       "    </tr>\n",
       "    <tr>\n",
       "      <th>13</th>\n",
       "      <td>2015-10-31 15:42:19</td>\n",
       "      <td>可笑</td>\n",
       "      <td>奇怪了離婚對下一代沒影響嗎？妳從哪看到單親家庭小孩沒影響的數據?如一樣影響***嘛妳只反對同...</td>\n",
       "      <td>NaN</td>\n",
       "    </tr>\n",
       "    <tr>\n",
       "      <th>18</th>\n",
       "      <td>2015-10-31 15:32:16</td>\n",
       "      <td>林聖曜</td>\n",
       "      <td>那麼我這個下一代也想為了我的下一代自私一點呢？</td>\n",
       "      <td>NaN</td>\n",
       "    </tr>\n",
       "    <tr>\n",
       "      <th>21</th>\n",
       "      <td>2015-10-31 15:31:19</td>\n",
       "      <td>宮紅雪</td>\n",
       "      <td>喔你提不出證據我們也提不出證據我們差不多差不多而已何況我還只是個孩子喔~~</td>\n",
       "      <td>NaN</td>\n",
       "    </tr>\n",
       "    <tr>\n",
       "      <th>22</th>\n",
       "      <td>2015-10-31 15:31:07</td>\n",
       "      <td>Jasi</td>\n",
       "      <td>恐同人士的回复和留言都是一模一樣的，答非所問。</td>\n",
       "      <td>NaN</td>\n",
       "    </tr>\n",
       "    <tr>\n",
       "      <th>23</th>\n",
       "      <td>2015-10-31 15:29:29</td>\n",
       "      <td>May Lin</td>\n",
       "      <td>同性戀收養孩子，全世界合法通過的時間並不長，沒有足夠的數據可以證明，對下一代的影響是什麼？如...</td>\n",
       "      <td>NaN</td>\n",
       "    </tr>\n",
       "  </tbody>\n",
       "</table>\n",
       "</div>"
      ],
      "text/plain": [
       "             createDate             authorName  \\\n",
       "id                                               \n",
       "2   2015-10-31 15:55:50                    大少爺   \n",
       "4   2015-10-31 15:55:20                   Jasi   \n",
       "5   2015-10-31 15:54:52                 MT Lin   \n",
       "11  2015-10-31 15:51:17                    宮紅雪   \n",
       "12  2015-10-31 15:49:02  就像異性婚姻離婚的人，換了對象結婚，還是以   \n",
       "13  2015-10-31 15:42:19                     可笑   \n",
       "18  2015-10-31 15:32:16                    林聖曜   \n",
       "21  2015-10-31 15:31:19                    宮紅雪   \n",
       "22  2015-10-31 15:31:07                   Jasi   \n",
       "23  2015-10-31 15:29:29                May Lin   \n",
       "\n",
       "                                              content ORID  \n",
       "id                                                          \n",
       "2   離婚率高低與否沒辦法當作拒絕同婚的理由同性戀離婚率肯定比異性戀低，因為對象非常難找，一但找到...  NaN  \n",
       "4        異性戀比同性戀更多，強姦案就已經特別多了 也是四處約砲 無固定性伴侶 就算是性解放的一種  NaN  \n",
       "5   笑死人，你這樣的想法就不自私嗎？你又有多少數據可以證明，對下一代、或是其他人的影響是什麼？如...  NaN  \n",
       "11                         異性戀有資格離婚為甚麼同性戀沒資格離婚?你還真是可笑  NaN  \n",
       "12  就像異性婚姻離婚的人，換了對象結婚，還是以離婚收場的人比比皆是!! .只是因為目前還沒有現成...  NaN  \n",
       "13  奇怪了離婚對下一代沒影響嗎？妳從哪看到單親家庭小孩沒影響的數據?如一樣影響***嘛妳只反對同...  NaN  \n",
       "18                            那麼我這個下一代也想為了我的下一代自私一點呢？  NaN  \n",
       "21              喔你提不出證據我們也提不出證據我們差不多差不多而已何況我還只是個孩子喔~~  NaN  \n",
       "22                            恐同人士的回复和留言都是一模一樣的，答非所問。  NaN  \n",
       "23  同性戀收養孩子，全世界合法通過的時間並不長，沒有足夠的數據可以證明，對下一代的影響是什麼？如...  NaN  "
      ]
     },
     "execution_count": 695,
     "metadata": {},
     "output_type": "execute_result"
    }
   ],
   "source": [
    "unlabeled.head(10)"
   ]
  },
  {
   "cell_type": "code",
   "execution_count": 693,
   "metadata": {},
   "outputs": [
    {
     "data": {
      "text/plain": [
       "array([[  0.00000000e+00,   3.64373234e-04,   9.99635637e-01,\n",
       "          8.24223876e-26],\n",
       "       [  0.00000000e+00,   2.23523541e-14,   1.00000000e+00,\n",
       "          2.80774144e-35],\n",
       "       [  0.00000000e+00,   7.14709889e-03,   9.92852926e-01,\n",
       "          1.20382141e-28],\n",
       "       [  0.00000000e+00,   8.42293269e-16,   1.00000000e+00,\n",
       "          6.63537288e-36],\n",
       "       [  0.00000000e+00,   1.97134502e-02,   9.80286539e-01,\n",
       "          2.44966530e-25],\n",
       "       [  0.00000000e+00,   5.26312396e-11,   1.00000000e+00,\n",
       "          2.22592137e-30],\n",
       "       [  0.00000000e+00,   5.24598777e-14,   1.00000000e+00,\n",
       "          2.63017976e-38],\n",
       "       [  0.00000000e+00,   1.01536751e-16,   1.00000000e+00,\n",
       "          3.30662313e-36],\n",
       "       [  0.00000000e+00,   1.10566260e-15,   1.00000000e+00,\n",
       "          3.37982119e-38],\n",
       "       [  1.40129846e-45,   3.63183558e-01,   6.36816442e-01,\n",
       "          1.66385469e-23]], dtype=float32)"
      ]
     },
     "execution_count": 693,
     "metadata": {},
     "output_type": "execute_result"
    }
   ],
   "source": [
    "pred[:10]"
   ]
  },
  {
   "cell_type": "code",
   "execution_count": null,
   "metadata": {},
   "outputs": [],
   "source": []
  }
 ],
 "metadata": {
  "kernelspec": {
   "display_name": "Python 2",
   "language": "python",
   "name": "python2"
  },
  "language_info": {
   "codemirror_mode": {
    "name": "ipython",
    "version": 2
   },
   "file_extension": ".py",
   "mimetype": "text/x-python",
   "name": "python",
   "nbconvert_exporter": "python",
   "pygments_lexer": "ipython2",
   "version": "2.7.10"
  }
 },
 "nbformat": 4,
 "nbformat_minor": 2
}
