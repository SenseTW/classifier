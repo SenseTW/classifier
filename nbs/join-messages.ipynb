{
 "cells": [
  {
   "cell_type": "markdown",
   "metadata": {},
   "source": [
    "# Join 平台眾開講\n",
    "\n",
    "Things tried so far:\n",
    "\n",
    "* Single hidden dense layer model\n",
    "\n",
    "A few things to try next:\n",
    "\n",
    "* RNN, since the comments tend to be short and paragraph-less.\n",
    "* CNN\n",
    "* fastText"
   ]
  },
  {
   "cell_type": "markdown",
   "metadata": {},
   "source": [
    "## Setup"
   ]
  },
  {
   "cell_type": "code",
   "execution_count": 49,
   "metadata": {},
   "outputs": [],
   "source": [
    "path = \"data/join\"\n",
    "topic = \"立法方式保障\"\n",
    "# topic = \"同性伴侣法\"\n",
    "# topic = \"同性婚姻法\""
   ]
  },
  {
   "cell_type": "code",
   "execution_count": 50,
   "metadata": {},
   "outputs": [],
   "source": [
    "from __future__ import division, print_function\n",
    "import pandas as pd, numpy as np, matplotlib.pyplot as plt\n",
    "import jieba\n",
    "from keras.models import Sequential\n",
    "from keras.layers import Embedding, Dense, Flatten, Dropout\n",
    "import os, math"
   ]
  },
  {
   "cell_type": "markdown",
   "metadata": {},
   "source": [
    "Read in messages from CSV."
   ]
  },
  {
   "cell_type": "code",
   "execution_count": 51,
   "metadata": {},
   "outputs": [
    {
     "name": "stdout",
     "output_type": "stream",
     "text": [
      "Total messages: 10215\n",
      "Labeled messages: 63\n"
     ]
    },
    {
     "data": {
      "text/html": [
       "<div>\n",
       "<style scoped>\n",
       "    .dataframe tbody tr th:only-of-type {\n",
       "        vertical-align: middle;\n",
       "    }\n",
       "\n",
       "    .dataframe tbody tr th {\n",
       "        vertical-align: top;\n",
       "    }\n",
       "\n",
       "    .dataframe thead th {\n",
       "        text-align: right;\n",
       "    }\n",
       "</style>\n",
       "<table border=\"1\" class=\"dataframe\">\n",
       "  <thead>\n",
       "    <tr style=\"text-align: right;\">\n",
       "      <th></th>\n",
       "      <th>createDate</th>\n",
       "      <th>authorName</th>\n",
       "      <th>content</th>\n",
       "      <th>ORID</th>\n",
       "      <th>comments</th>\n",
       "    </tr>\n",
       "    <tr>\n",
       "      <th>id</th>\n",
       "      <th></th>\n",
       "      <th></th>\n",
       "      <th></th>\n",
       "      <th></th>\n",
       "      <th></th>\n",
       "    </tr>\n",
       "  </thead>\n",
       "  <tbody>\n",
       "    <tr>\n",
       "      <th>14136</th>\n",
       "      <td>2015-08-03 8:57:21</td>\n",
       "      <td>Shaffer Lin</td>\n",
       "      <td>「政府對全體人民的人權有履行義務且不應以公眾之意見作為履行的條件」那現在在投什麼？自打嘴巴？...</td>\n",
       "      <td>R</td>\n",
       "      <td>NaN</td>\n",
       "    </tr>\n",
       "    <tr>\n",
       "      <th>14135</th>\n",
       "      <td>2015-08-03 9:30:52</td>\n",
       "      <td>Oliver Lin</td>\n",
       "      <td>贊成歸贊成但更贊成就直接修民法就好了不用疊床架屋我要的沒有比較特別就是現在一堆人在結的那個婚姻</td>\n",
       "      <td>D</td>\n",
       "      <td>NaN</td>\n",
       "    </tr>\n",
       "    <tr>\n",
       "      <th>14134</th>\n",
       "      <td>2015-08-03 10:05:26</td>\n",
       "      <td>蛍一 森里</td>\n",
       "      <td>與其以立法的方式來保障不如用修法的方式來保障不是比較方便一些?</td>\n",
       "      <td>I</td>\n",
       "      <td>NaN</td>\n",
       "    </tr>\n",
       "    <tr>\n",
       "      <th>14133</th>\n",
       "      <td>2015-08-03 10:08:00</td>\n",
       "      <td>楊剛</td>\n",
       "      <td>投你個花開富貴啦我要不要結婚關順性別異性戀沙豬什麼事啊？啊連個草案都沒有的東西是要投三小喔？...</td>\n",
       "      <td>R</td>\n",
       "      <td>NaN</td>\n",
       "    </tr>\n",
       "    <tr>\n",
       "      <th>14132</th>\n",
       "      <td>2015-08-03 10:14:57</td>\n",
       "      <td>黑桐喵</td>\n",
       "      <td>原來別人要不要結婚須要所有人一起投票決定。既然都說了「政府對全體人民的人權有履行義務且不應以...</td>\n",
       "      <td>R</td>\n",
       "      <td>NaN</td>\n",
       "    </tr>\n",
       "  </tbody>\n",
       "</table>\n",
       "</div>"
      ],
      "text/plain": [
       "                createDate   authorName  \\\n",
       "id                                        \n",
       "14136   2015-08-03 8:57:21  Shaffer Lin   \n",
       "14135   2015-08-03 9:30:52   Oliver Lin   \n",
       "14134  2015-08-03 10:05:26        蛍一 森里   \n",
       "14133  2015-08-03 10:08:00           楊剛   \n",
       "14132  2015-08-03 10:14:57          黑桐喵   \n",
       "\n",
       "                                                 content ORID  comments  \n",
       "id                                                                       \n",
       "14136  「政府對全體人民的人權有履行義務且不應以公眾之意見作為履行的條件」那現在在投什麼？自打嘴巴？...    R       NaN  \n",
       "14135    贊成歸贊成但更贊成就直接修民法就好了不用疊床架屋我要的沒有比較特別就是現在一堆人在結的那個婚姻    D       NaN  \n",
       "14134                    與其以立法的方式來保障不如用修法的方式來保障不是比較方便一些?    I       NaN  \n",
       "14133  投你個花開富貴啦我要不要結婚關順性別異性戀沙豬什麼事啊？啊連個草案都沒有的東西是要投三小喔？...    R       NaN  \n",
       "14132  原來別人要不要結婚須要所有人一起投票決定。既然都說了「政府對全體人民的人權有履行義務且不應以...    R       NaN  "
      ]
     },
     "execution_count": 51,
     "metadata": {},
     "output_type": "execute_result"
    }
   ],
   "source": [
    "def get_messages_from_orig(topic):\n",
    "    messages = pd.read_csv(os.path.join(path, topic + \".csv\"), index_col=0)\n",
    "    mask = messages.astype('str').applymap(lambda x: len(x.decode('utf-8'))).content > 20\n",
    "    messages = messages[mask]\n",
    "    messages.to_csv(os.path.join(path, topic + \"-good.csv\"))\n",
    "    return messages\n",
    "\n",
    "def get_labeled_messages(topic):\n",
    "    return pd.read_csv(os.path.join(path, topic + \"-good.csv\"), index_col=0)\n",
    "\n",
    "def labeled_only(messages):\n",
    "    return messages[messages.ORID.notnull()]\n",
    "\n",
    "def unlabeled_only(messages):\n",
    "    return messages[messages.ORID.isnull()]\n",
    "    \n",
    "all_messages = get_messages_from_orig(topic) if not os.path.exists(os.path.join(path, topic + \"-good.csv\")) \\\n",
    "                                         else get_labeled_messages(topic)\n",
    "print(\"Total messages: {count}\".format(count=len(all_messages)))\n",
    "messages = labeled_only(all_messages)\n",
    "print(\"Labeled messages: {count}\".format(count=len(messages)))\n",
    "messages.head()"
   ]
  },
  {
   "cell_type": "code",
   "execution_count": 52,
   "metadata": {},
   "outputs": [
    {
     "data": {
      "image/png": "[encoded data removed]",
      "text/plain": [
       "<matplotlib.figure.Figure at 0x119386290>"
      ]
     },
     "metadata": {},
     "output_type": "display_data"
    }
   ],
   "source": [
    "plt.hist(messages.ORID.values)\n",
    "plt.show()"
   ]
  },
  {
   "cell_type": "markdown",
   "metadata": {},
   "source": [
    "Build dictionary of phrases and load word embeddings."
   ]
  },
  {
   "cell_type": "code",
   "execution_count": 53,
   "metadata": {},
   "outputs": [
    {
     "data": {
      "text/plain": [
       "(44956, 300)"
      ]
     },
     "execution_count": 53,
     "metadata": {},
     "output_type": "execute_result"
    }
   ],
   "source": [
    "def write_dictionary(messages):\n",
    "    contents = [ jieba.lcut(c) for c in messages.content ]\n",
    "    all_phrases = set([ ph for c in contents for ph in c ])\n",
    "    with open(os.path.join(path, \"dictionary.txt\"), \"w\") as fh:\n",
    "        for ph in all_phrases:\n",
    "            fh.write(ph.encode(\"utf-8\") + \"\\n\")\n",
    "            \n",
    "def read_dictionary():\n",
    "    dictionary = pd.read_csv(os.path.join(path, \"dictionary.vec\"), \n",
    "                       delim_whitespace=True, engine=\"python\", header=None, index_col=0)\n",
    "    return dictionary\n",
    "\n",
    "if not os.path.exists(\"dictionary.vec\"):\n",
    "    write_dictionary(all_messages)\n",
    "    !cd data/join; ../../../bin/fasttext print-word-vectors models/wiki.zh.bin < dictionary.txt > dictionary.vec\n",
    "dictionary = read_dictionary()\n",
    "dictionary.shape"
   ]
  },
  {
   "cell_type": "markdown",
   "metadata": {},
   "source": [
    "Build dictionary index to convert phrases into embedding vectors."
   ]
  },
  {
   "cell_type": "code",
   "execution_count": 54,
   "metadata": {},
   "outputs": [
    {
     "data": {
      "text/plain": [
       "(35102, True)"
      ]
     },
     "execution_count": 54,
     "metadata": {},
     "output_type": "execute_result"
    }
   ],
   "source": [
    "dict_index = { ph.decode(\"utf-8\"): i for i, ph in enumerate(dictionary.index) }\n",
    "dict_index[u\"同性\"], (dictionary.iloc[dict_index[u\"同性\"]] == dictionary.loc[\"同性\"]).all()"
   ]
  },
  {
   "cell_type": "markdown",
   "metadata": {},
   "source": [
    "Split messages into training and validation datasets."
   ]
  },
  {
   "cell_type": "code",
   "execution_count": 55,
   "metadata": {},
   "outputs": [],
   "source": [
    "select = np.random.random(len(messages)) < 0.9\n",
    "train = messages[select]\n",
    "valid = messages[~select]"
   ]
  },
  {
   "cell_type": "code",
   "execution_count": 56,
   "metadata": {},
   "outputs": [
    {
     "name": "stdout",
     "output_type": "stream",
     "text": [
      "Training data: 61\n"
     ]
    },
    {
     "data": {
      "text/html": [
       "<div>\n",
       "<style scoped>\n",
       "    .dataframe tbody tr th:only-of-type {\n",
       "        vertical-align: middle;\n",
       "    }\n",
       "\n",
       "    .dataframe tbody tr th {\n",
       "        vertical-align: top;\n",
       "    }\n",
       "\n",
       "    .dataframe thead th {\n",
       "        text-align: right;\n",
       "    }\n",
       "</style>\n",
       "<table border=\"1\" class=\"dataframe\">\n",
       "  <thead>\n",
       "    <tr style=\"text-align: right;\">\n",
       "      <th></th>\n",
       "      <th>createDate</th>\n",
       "      <th>authorName</th>\n",
       "      <th>content</th>\n",
       "      <th>ORID</th>\n",
       "      <th>comments</th>\n",
       "    </tr>\n",
       "    <tr>\n",
       "      <th>id</th>\n",
       "      <th></th>\n",
       "      <th></th>\n",
       "      <th></th>\n",
       "      <th></th>\n",
       "      <th></th>\n",
       "    </tr>\n",
       "  </thead>\n",
       "  <tbody>\n",
       "    <tr>\n",
       "      <th>14136</th>\n",
       "      <td>2015-08-03 8:57:21</td>\n",
       "      <td>Shaffer Lin</td>\n",
       "      <td>「政府對全體人民的人權有履行義務且不應以公眾之意見作為履行的條件」那現在在投什麼？自打嘴巴？...</td>\n",
       "      <td>R</td>\n",
       "      <td>NaN</td>\n",
       "    </tr>\n",
       "    <tr>\n",
       "      <th>14133</th>\n",
       "      <td>2015-08-03 10:08:00</td>\n",
       "      <td>楊剛</td>\n",
       "      <td>投你個花開富貴啦我要不要結婚關順性別異性戀沙豬什麼事啊？啊連個草案都沒有的東西是要投三小喔？...</td>\n",
       "      <td>R</td>\n",
       "      <td>NaN</td>\n",
       "    </tr>\n",
       "    <tr>\n",
       "      <th>14132</th>\n",
       "      <td>2015-08-03 10:14:57</td>\n",
       "      <td>黑桐喵</td>\n",
       "      <td>原來別人要不要結婚須要所有人一起投票決定。既然都說了「政府對全體人民的人權有履行義務且不應以...</td>\n",
       "      <td>R</td>\n",
       "      <td>NaN</td>\n",
       "    </tr>\n",
       "    <tr>\n",
       "      <th>14131</th>\n",
       "      <td>2015-08-03 10:21:00</td>\n",
       "      <td>Janus Chang</td>\n",
       "      <td>讓更多人可以結婚到底有甚麼問題???? 一堆拿幾千年前教條來干預現代人生活的人真的是社會的敗類。</td>\n",
       "      <td>R</td>\n",
       "      <td>NaN</td>\n",
       "    </tr>\n",
       "    <tr>\n",
       "      <th>14130</th>\n",
       "      <td>2015-08-03 13:06:12</td>\n",
       "      <td>Thomas Chen</td>\n",
       "      <td>支持婚姻平權.一步到位.台灣並不以宗教立國.人民有人民的格調.請政府跟上我们的腳步.如果我们...</td>\n",
       "      <td>D</td>\n",
       "      <td>NaN</td>\n",
       "    </tr>\n",
       "  </tbody>\n",
       "</table>\n",
       "</div>"
      ],
      "text/plain": [
       "                createDate   authorName  \\\n",
       "id                                        \n",
       "14136   2015-08-03 8:57:21  Shaffer Lin   \n",
       "14133  2015-08-03 10:08:00           楊剛   \n",
       "14132  2015-08-03 10:14:57          黑桐喵   \n",
       "14131  2015-08-03 10:21:00  Janus Chang   \n",
       "14130  2015-08-03 13:06:12  Thomas Chen   \n",
       "\n",
       "                                                 content ORID  comments  \n",
       "id                                                                       \n",
       "14136  「政府對全體人民的人權有履行義務且不應以公眾之意見作為履行的條件」那現在在投什麼？自打嘴巴？...    R       NaN  \n",
       "14133  投你個花開富貴啦我要不要結婚關順性別異性戀沙豬什麼事啊？啊連個草案都沒有的東西是要投三小喔？...    R       NaN  \n",
       "14132  原來別人要不要結婚須要所有人一起投票決定。既然都說了「政府對全體人民的人權有履行義務且不應以...    R       NaN  \n",
       "14131   讓更多人可以結婚到底有甚麼問題???? 一堆拿幾千年前教條來干預現代人生活的人真的是社會的敗類。    R       NaN  \n",
       "14130  支持婚姻平權.一步到位.台灣並不以宗教立國.人民有人民的格調.請政府跟上我们的腳步.如果我们...    D       NaN  "
      ]
     },
     "execution_count": 56,
     "metadata": {},
     "output_type": "execute_result"
    }
   ],
   "source": [
    "print(\"Training data: {count}\".format(count=len(train)))\n",
    "train.head()"
   ]
  },
  {
   "cell_type": "code",
   "execution_count": 57,
   "metadata": {},
   "outputs": [
    {
     "data": {
      "image/png": "[encoded data removed]",
      "text/plain": [
       "<matplotlib.figure.Figure at 0x17c39b490>"
      ]
     },
     "metadata": {},
     "output_type": "display_data"
    }
   ],
   "source": [
    "plt.hist(train.ORID.values)\n",
    "plt.show()"
   ]
  },
  {
   "cell_type": "code",
   "execution_count": 58,
   "metadata": {},
   "outputs": [
    {
     "name": "stdout",
     "output_type": "stream",
     "text": [
      "Validation data: 2\n"
     ]
    },
    {
     "data": {
      "text/html": [
       "<div>\n",
       "<style scoped>\n",
       "    .dataframe tbody tr th:only-of-type {\n",
       "        vertical-align: middle;\n",
       "    }\n",
       "\n",
       "    .dataframe tbody tr th {\n",
       "        vertical-align: top;\n",
       "    }\n",
       "\n",
       "    .dataframe thead th {\n",
       "        text-align: right;\n",
       "    }\n",
       "</style>\n",
       "<table border=\"1\" class=\"dataframe\">\n",
       "  <thead>\n",
       "    <tr style=\"text-align: right;\">\n",
       "      <th></th>\n",
       "      <th>createDate</th>\n",
       "      <th>authorName</th>\n",
       "      <th>content</th>\n",
       "      <th>ORID</th>\n",
       "      <th>comments</th>\n",
       "    </tr>\n",
       "    <tr>\n",
       "      <th>id</th>\n",
       "      <th></th>\n",
       "      <th></th>\n",
       "      <th></th>\n",
       "      <th></th>\n",
       "      <th></th>\n",
       "    </tr>\n",
       "  </thead>\n",
       "  <tbody>\n",
       "    <tr>\n",
       "      <th>14135</th>\n",
       "      <td>2015-08-03 9:30:52</td>\n",
       "      <td>Oliver Lin</td>\n",
       "      <td>贊成歸贊成但更贊成就直接修民法就好了不用疊床架屋我要的沒有比較特別就是現在一堆人在結的那個婚姻</td>\n",
       "      <td>D</td>\n",
       "      <td>NaN</td>\n",
       "    </tr>\n",
       "    <tr>\n",
       "      <th>14134</th>\n",
       "      <td>2015-08-03 10:05:26</td>\n",
       "      <td>蛍一 森里</td>\n",
       "      <td>與其以立法的方式來保障不如用修法的方式來保障不是比較方便一些?</td>\n",
       "      <td>I</td>\n",
       "      <td>NaN</td>\n",
       "    </tr>\n",
       "  </tbody>\n",
       "</table>\n",
       "</div>"
      ],
      "text/plain": [
       "                createDate  authorName  \\\n",
       "id                                       \n",
       "14135   2015-08-03 9:30:52  Oliver Lin   \n",
       "14134  2015-08-03 10:05:26       蛍一 森里   \n",
       "\n",
       "                                               content ORID  comments  \n",
       "id                                                                     \n",
       "14135  贊成歸贊成但更贊成就直接修民法就好了不用疊床架屋我要的沒有比較特別就是現在一堆人在結的那個婚姻    D       NaN  \n",
       "14134                  與其以立法的方式來保障不如用修法的方式來保障不是比較方便一些?    I       NaN  "
      ]
     },
     "execution_count": 58,
     "metadata": {},
     "output_type": "execute_result"
    }
   ],
   "source": [
    "print(\"Validation data: {count}\".format(count=len(valid)))\n",
    "valid.head()"
   ]
  },
  {
   "cell_type": "code",
   "execution_count": 59,
   "metadata": {
    "scrolled": true
   },
   "outputs": [
    {
     "data": {
      "image/png": "[encoded data removed]",
      "text/plain": [
       "<matplotlib.figure.Figure at 0x17c39b210>"
      ]
     },
     "metadata": {},
     "output_type": "display_data"
    }
   ],
   "source": [
    "plt.hist(valid.ORID.values)\n",
    "plt.show()"
   ]
  },
  {
   "cell_type": "markdown",
   "metadata": {},
   "source": [
    "Setup input length and word embeddings."
   ]
  },
  {
   "cell_type": "code",
   "execution_count": 60,
   "metadata": {},
   "outputs": [],
   "source": [
    "input_length = 50\n",
    "\n",
    "def create_embeddings(dictionary, input_length=100):\n",
    "    phrases, latents = dictionary.shape\n",
    "    embedding = Embedding(phrases, latents, input_length=input_length, weights=[dictionary])\n",
    "    return embedding"
   ]
  },
  {
   "cell_type": "code",
   "execution_count": 61,
   "metadata": {},
   "outputs": [],
   "source": [
    "def get_data(messages):\n",
    "    jieba_cut = np.frompyfunc(lambda x: [ ph for ph in jieba.lcut(x.decode(\"utf-8\")) if ph != u\" \" ][:input_length], 1, 1)\n",
    "    word_embed = np.frompyfunc(lambda x: [ dict_index[ph] for ph in x ], 1, 1)\n",
    "    fill_to_length = np.frompyfunc(lambda x: x + [0] * (input_length - len(x)), 1, 1)\n",
    "    return np.stack(fill_to_length(word_embed(jieba_cut(messages.content.values))), axis=0)\n",
    "\n",
    "answers_oh = { \"O\": [1., 0., 0., 0.], \"R\": [0., 1., 0., 0.], \"I\": [0., 0., 1., 0.], \"D\": [0., 0., 0., 1.] }\n",
    "\n",
    "def get_answer(messages):\n",
    "    return np.array([ answers_oh[x] for x in messages.ORID ])\n",
    "\n",
    "train = (get_data(train), get_answer(train))\n",
    "valid = (get_data(valid), get_answer(valid))"
   ]
  },
  {
   "cell_type": "code",
   "execution_count": 62,
   "metadata": {},
   "outputs": [
    {
     "data": {
      "text/plain": [
       "(array([31043, 34648, 39303, 37630, 19941, 24467,  4530,  5442,  4414,\n",
       "        42524, 28133, 23894, 42356, 20923,  4530, 18210,  9313, 42934,\n",
       "        31739, 20923, 14634, 37630, 38922, 31103, 36659,     0,     0,\n",
       "            0,     0,     0,     0,     0,     0,     0,     0,     0,\n",
       "            0,     0,     0,     0,     0,     0,     0,     0,     0,\n",
       "            0,     0,     0,     0,     0]),\n",
       " array([ 0.,  0.,  0.,  1.]),\n",
       " array([39403, 32677, 39403, 42769,  4633, 29511, 12334, 43158, 37630,\n",
       "        27354, 11541, 17352, 16739, 44472, 35071, 12361,  8186, 42918,\n",
       "         4414, 33073, 17642,  7730, 32030, 19321, 40323, 22601, 27041,\n",
       "        24903, 43183, 34376,  4414, 23626,  5442,     0,     0,     0,\n",
       "            0,     0,     0,     0,     0,     0,     0,     0,     0,\n",
       "            0,     0,     0,     0,     0]),\n",
       " array([ 0.,  0.,  0.,  1.]))"
      ]
     },
     "execution_count": 62,
     "metadata": {},
     "output_type": "execute_result"
    }
   ],
   "source": [
    "train[0][10], train[1][10], valid[0][0], valid[1][0]"
   ]
  },
  {
   "cell_type": "markdown",
   "metadata": {},
   "source": [
    "# Single hidden layer model"
   ]
  },
  {
   "cell_type": "code",
   "execution_count": 28,
   "metadata": {},
   "outputs": [
    {
     "name": "stdout",
     "output_type": "stream",
     "text": [
      "____________________________________________________________________________________________________\n",
      "Layer (type)                     Output Shape          Param #     Connected to                     \n",
      "====================================================================================================\n",
      "embedding_1 (Embedding)          (None, 50, 300)       13486800    embedding_input_1[0][0]          \n",
      "____________________________________________________________________________________________________\n",
      "flatten_1 (Flatten)              (None, 15000)         0           embedding_1[0][0]                \n",
      "____________________________________________________________________________________________________\n",
      "dense_1 (Dense)                  (None, 512)           7680512     flatten_1[0][0]                  \n",
      "____________________________________________________________________________________________________\n",
      "dropout_1 (Dropout)              (None, 512)           0           dense_1[0][0]                    \n",
      "____________________________________________________________________________________________________\n",
      "dense_2 (Dense)                  (None, 4)             2052        dropout_1[0][0]                  \n",
      "====================================================================================================\n",
      "Total params: 21,169,364\n",
      "Trainable params: 21,169,364\n",
      "Non-trainable params: 0\n",
      "____________________________________________________________________________________________________\n"
     ]
    }
   ],
   "source": [
    "batch_size = 64\n",
    "\n",
    "def linear_model():\n",
    "    model = Sequential()\n",
    "    model.add(create_embeddings(dictionary, input_length))\n",
    "    model.add(Flatten())\n",
    "    model.add(Dense(512, activation=\"relu\"))\n",
    "    model.add(Dropout(0.6))\n",
    "    model.add(Dense(4, activation=\"softmax\"))\n",
    "    return model\n",
    "\n",
    "linear = linear_model()\n",
    "linear.summary()"
   ]
  },
  {
   "cell_type": "code",
   "execution_count": 29,
   "metadata": {},
   "outputs": [],
   "source": [
    "linear.compile(\"adam\", loss=\"categorical_crossentropy\", metrics=[\"accuracy\"])"
   ]
  },
  {
   "cell_type": "code",
   "execution_count": 20,
   "metadata": {},
   "outputs": [
    {
     "name": "stdout",
     "output_type": "stream",
     "text": [
      "Train on 59 samples, validate on 4 samples\n",
      "Epoch 1/1\n",
      "59/59 [==============================] - 0s - loss: 1.8750 - acc: 0.1864 - val_loss: 11.6880 - val_acc: 0.2500\n"
     ]
    }
   ],
   "source": [
    "def train_linear(lr=None, epoch=1):\n",
    "    if lr is not None:\n",
    "        linear.optimizer.lr = lr\n",
    "    linear.fit(train[0], train[1], nb_epoch=epoch, validation_data=valid, batch_size=batch_size)\n",
    "    \n",
    "train_linear()"
   ]
  },
  {
   "cell_type": "code",
   "execution_count": 21,
   "metadata": {},
   "outputs": [
    {
     "name": "stdout",
     "output_type": "stream",
     "text": [
      "Train on 59 samples, validate on 4 samples\n",
      "Epoch 1/2\n",
      "59/59 [==============================] - 0s - loss: 9.6479 - acc: 0.3220 - val_loss: 8.4339 - val_acc: 0.2500\n",
      "Epoch 2/2\n",
      "59/59 [==============================] - 0s - loss: 8.1080 - acc: 0.3051 - val_loss: 6.1407 - val_acc: 0.5000\n",
      "Train on 59 samples, validate on 4 samples\n",
      "Epoch 1/4\n",
      "59/59 [==============================] - 0s - loss: 8.7672 - acc: 0.3220 - val_loss: 6.2506 - val_acc: 0.5000\n",
      "Epoch 2/4\n",
      "59/59 [==============================] - 0s - loss: 7.6085 - acc: 0.3559 - val_loss: 4.0749 - val_acc: 0.7500\n",
      "Epoch 3/4\n",
      "59/59 [==============================] - 0s - loss: 4.9033 - acc: 0.4915 - val_loss: 4.7415 - val_acc: 0.0000e+00\n",
      "Epoch 4/4\n",
      "59/59 [==============================] - 0s - loss: 5.4848 - acc: 0.4407 - val_loss: 7.8911 - val_acc: 0.2500\n",
      "Train on 59 samples, validate on 4 samples\n",
      "Epoch 1/4\n",
      "59/59 [==============================] - 0s - loss: 5.1637 - acc: 0.4915 - val_loss: 9.2897 - val_acc: 0.2500\n",
      "Epoch 2/4\n",
      "59/59 [==============================] - 0s - loss: 6.8774 - acc: 0.4237 - val_loss: 6.7512 - val_acc: 0.2500\n",
      "Epoch 3/4\n",
      "59/59 [==============================] - 0s - loss: 4.7937 - acc: 0.5254 - val_loss: 4.8573 - val_acc: 0.5000\n",
      "Epoch 4/4\n",
      "59/59 [==============================] - 0s - loss: 4.6065 - acc: 0.5763 - val_loss: 4.0679 - val_acc: 0.5000\n"
     ]
    }
   ],
   "source": [
    "train_linear(lr=0.1, epoch=2)\n",
    "train_linear(lr=0.01, epoch=4)\n",
    "train_linear(lr=0.001, epoch=4)"
   ]
  },
  {
   "cell_type": "markdown",
   "metadata": {},
   "source": [
    "# Evaluation"
   ]
  },
  {
   "cell_type": "code",
   "execution_count": 17,
   "metadata": {},
   "outputs": [],
   "source": [
    "model = linear"
   ]
  },
  {
   "cell_type": "code",
   "execution_count": 18,
   "metadata": {},
   "outputs": [],
   "source": [
    "unlabeled = unlabeled_only(all_messages)\n",
    "test_data = get_data(unlabeled)"
   ]
  },
  {
   "cell_type": "code",
   "execution_count": 19,
   "metadata": {},
   "outputs": [],
   "source": [
    "pred = model.predict(test_data, batch_size=batch_size)"
   ]
  },
  {
   "cell_type": "code",
   "execution_count": 20,
   "metadata": {},
   "outputs": [
    {
     "data": {
      "text/html": [
       "<div>\n",
       "<style scoped>\n",
       "    .dataframe tbody tr th:only-of-type {\n",
       "        vertical-align: middle;\n",
       "    }\n",
       "\n",
       "    .dataframe tbody tr th {\n",
       "        vertical-align: top;\n",
       "    }\n",
       "\n",
       "    .dataframe thead th {\n",
       "        text-align: right;\n",
       "    }\n",
       "</style>\n",
       "<table border=\"1\" class=\"dataframe\">\n",
       "  <thead>\n",
       "    <tr style=\"text-align: right;\">\n",
       "      <th></th>\n",
       "      <th>createDate</th>\n",
       "      <th>authorName</th>\n",
       "      <th>content</th>\n",
       "      <th>ORID</th>\n",
       "      <th>comments</th>\n",
       "    </tr>\n",
       "    <tr>\n",
       "      <th>id</th>\n",
       "      <th></th>\n",
       "      <th></th>\n",
       "      <th></th>\n",
       "      <th></th>\n",
       "      <th></th>\n",
       "    </tr>\n",
       "  </thead>\n",
       "  <tbody>\n",
       "    <tr>\n",
       "      <th>14138</th>\n",
       "      <td>2015-08-03 8:12:21</td>\n",
       "      <td>小K</td>\n",
       "      <td>那麼亞洲國家的現況呢？以新加坡或日本這兩個已開發的國家來說，是否有進行相關政策？</td>\n",
       "      <td>NaN</td>\n",
       "      <td>NaN</td>\n",
       "    </tr>\n",
       "    <tr>\n",
       "      <th>14110</th>\n",
       "      <td>2015-08-04 2:41:32</td>\n",
       "      <td>Oliver Lin</td>\n",
       "      <td>你搞錯了，不論性向有錢人是最不受制度限制的一群人如果你擔心這點，請採用共產制度根本上讓大家均貧就好</td>\n",
       "      <td>NaN</td>\n",
       "      <td>NaN</td>\n",
       "    </tr>\n",
       "    <tr>\n",
       "      <th>14103</th>\n",
       "      <td>2015-08-04 3:43:13</td>\n",
       "      <td>in.j li</td>\n",
       "      <td>你(妳)知道性取向是天生的,那試問, 如果自然法則是同性交配才能繁殖下一代, 那你(妳)可以...</td>\n",
       "      <td>NaN</td>\n",
       "      <td>NaN</td>\n",
       "    </tr>\n",
       "    <tr>\n",
       "      <th>14097</th>\n",
       "      <td>2015-08-04 4:29:26</td>\n",
       "      <td>black756133</td>\n",
       "      <td>無神論者無法相信任何沒有存在證據的神說的話，跟神溝通也只能透過古代人編寫的各種版本同人作品自...</td>\n",
       "      <td>NaN</td>\n",
       "      <td>NaN</td>\n",
       "    </tr>\n",
       "    <tr>\n",
       "      <th>14096</th>\n",
       "      <td>2015-08-04 4:33:21</td>\n",
       "      <td>RED</td>\n",
       "      <td>冰山一角http://news.ltn.com.tw/news/wo...</td>\n",
       "      <td>NaN</td>\n",
       "      <td>NaN</td>\n",
       "    </tr>\n",
       "    <tr>\n",
       "      <th>14088</th>\n",
       "      <td>2015-08-04 5:21:16</td>\n",
       "      <td>RED</td>\n",
       "      <td>網路很多新聞，平時你不看的那種。https://chinesemanif.wordpress...</td>\n",
       "      <td>NaN</td>\n",
       "      <td>NaN</td>\n",
       "    </tr>\n",
       "    <tr>\n",
       "      <th>14086</th>\n",
       "      <td>2015-08-04 5:22:52</td>\n",
       "      <td>炎暴龍</td>\n",
       "      <td>不支持不適用於異性戀的伴侶法！此議題的命題方式已嚴重歧視各性向的族群我支持可適用於全民的伴侶...</td>\n",
       "      <td>NaN</td>\n",
       "      <td>NaN</td>\n",
       "    </tr>\n",
       "    <tr>\n",
       "      <th>14085</th>\n",
       "      <td>2015-08-04 5:27:30</td>\n",
       "      <td>I-Ling Yeh</td>\n",
       "      <td>婚姻和伴侶關係應是獨立兩種關係，兩者都不應因為對象的性別受限。認可同性婚姻應直接在民法明文說...</td>\n",
       "      <td>NaN</td>\n",
       "      <td>NaN</td>\n",
       "    </tr>\n",
       "    <tr>\n",
       "      <th>14083</th>\n",
       "      <td>2015-08-04 5:33:41</td>\n",
       "      <td>Jun-Yuan Guo</td>\n",
       "      <td>「隔離而平等不是真平等」我支持修改民法，還給同志族群與異性戀者相同的婚姻權和親權；並新增相關...</td>\n",
       "      <td>NaN</td>\n",
       "      <td>NaN</td>\n",
       "    </tr>\n",
       "    <tr>\n",
       "      <th>14081</th>\n",
       "      <td>2015-08-04 5:51:28</td>\n",
       "      <td>Grace Guan</td>\n",
       "      <td>如果個人權力可以凌駕於國家整體考量之上，社會豈不亂乎？跟紅衛兵時代所行有何差別？革命烈士在天...</td>\n",
       "      <td>NaN</td>\n",
       "      <td>NaN</td>\n",
       "    </tr>\n",
       "  </tbody>\n",
       "</table>\n",
       "</div>"
      ],
      "text/plain": [
       "               createDate    authorName  \\\n",
       "id                                        \n",
       "14138  2015-08-03 8:12:21            小K   \n",
       "14110  2015-08-04 2:41:32    Oliver Lin   \n",
       "14103  2015-08-04 3:43:13       in.j li   \n",
       "14097  2015-08-04 4:29:26   black756133   \n",
       "14096  2015-08-04 4:33:21           RED   \n",
       "14088  2015-08-04 5:21:16           RED   \n",
       "14086  2015-08-04 5:22:52           炎暴龍   \n",
       "14085  2015-08-04 5:27:30    I-Ling Yeh   \n",
       "14083  2015-08-04 5:33:41  Jun-Yuan Guo   \n",
       "14081  2015-08-04 5:51:28    Grace Guan   \n",
       "\n",
       "                                                 content ORID  comments  \n",
       "id                                                                       \n",
       "14138           那麼亞洲國家的現況呢？以新加坡或日本這兩個已開發的國家來說，是否有進行相關政策？  NaN       NaN  \n",
       "14110  你搞錯了，不論性向有錢人是最不受制度限制的一群人如果你擔心這點，請採用共產制度根本上讓大家均貧就好  NaN       NaN  \n",
       "14103  你(妳)知道性取向是天生的,那試問, 如果自然法則是同性交配才能繁殖下一代, 那你(妳)可以...  NaN       NaN  \n",
       "14097  無神論者無法相信任何沒有存在證據的神說的話，跟神溝通也只能透過古代人編寫的各種版本同人作品自...  NaN       NaN  \n",
       "14096              冰山一角http://news.ltn.com.tw/news/wo...  NaN       NaN  \n",
       "14088  網路很多新聞，平時你不看的那種。https://chinesemanif.wordpress...  NaN       NaN  \n",
       "14086  不支持不適用於異性戀的伴侶法！此議題的命題方式已嚴重歧視各性向的族群我支持可適用於全民的伴侶...  NaN       NaN  \n",
       "14085  婚姻和伴侶關係應是獨立兩種關係，兩者都不應因為對象的性別受限。認可同性婚姻應直接在民法明文說...  NaN       NaN  \n",
       "14083  「隔離而平等不是真平等」我支持修改民法，還給同志族群與異性戀者相同的婚姻權和親權；並新增相關...  NaN       NaN  \n",
       "14081  如果個人權力可以凌駕於國家整體考量之上，社會豈不亂乎？跟紅衛兵時代所行有何差別？革命烈士在天...  NaN       NaN  "
      ]
     },
     "execution_count": 20,
     "metadata": {},
     "output_type": "execute_result"
    }
   ],
   "source": [
    "unlabeled.head(10)"
   ]
  },
  {
   "cell_type": "code",
   "execution_count": 21,
   "metadata": {},
   "outputs": [
    {
     "data": {
      "text/plain": [
       "array([[  2.33472145e-38,   3.96522671e-01,   6.03477359e-01,\n",
       "          4.94881489e-37],\n",
       "       [  0.00000000e+00,   9.99618769e-01,   3.81167250e-04,\n",
       "          0.00000000e+00],\n",
       "       [  1.31799101e-32,   9.99994159e-01,   5.82005259e-06,\n",
       "          3.91706221e-32],\n",
       "       [  3.62049274e-31,   9.99779761e-01,   2.20267350e-04,\n",
       "          3.46005305e-31],\n",
       "       [  9.84984932e-37,   9.08753090e-03,   9.90912437e-01,\n",
       "          7.28294228e-36],\n",
       "       [  8.88519972e-38,   1.80057094e-01,   8.19942892e-01,\n",
       "          9.98887517e-37],\n",
       "       [  1.47125918e-36,   9.99647141e-01,   3.52818635e-04,\n",
       "          1.06983474e-35],\n",
       "       [  6.70091965e-32,   9.95061934e-01,   4.93810000e-03,\n",
       "          9.72486100e-31],\n",
       "       [  6.39575915e-35,   9.98556316e-01,   1.44370634e-03,\n",
       "          1.07126428e-33],\n",
       "       [  1.16256888e-29,   9.90411043e-01,   9.58895311e-03,\n",
       "          2.20837434e-29]], dtype=float32)"
      ]
     },
     "execution_count": 21,
     "metadata": {},
     "output_type": "execute_result"
    }
   ],
   "source": [
    "pred[:10]"
   ]
  },
  {
   "cell_type": "code",
   "execution_count": null,
   "metadata": {},
   "outputs": [],
   "source": []
  }
 ],
 "metadata": {
  "kernelspec": {
   "display_name": "Python 2",
   "language": "python",
   "name": "python2"
  },
  "language_info": {
   "codemirror_mode": {
    "name": "ipython",
    "version": 2
   },
   "file_extension": ".py",
   "mimetype": "text/x-python",
   "name": "python",
   "nbconvert_exporter": "python",
   "pygments_lexer": "ipython2",
   "version": "2.7.10"
  }
 },
 "nbformat": 4,
 "nbformat_minor": 2
}
